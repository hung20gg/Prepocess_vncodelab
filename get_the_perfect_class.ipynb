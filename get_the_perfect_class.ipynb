{
 "cells": [
  {
   "cell_type": "markdown",
   "metadata": {},
   "source": [
    "## Pulling data from Firebase\n",
    "* This file will not run due to no prvkey.json"
   ]
  },
  {
   "cell_type": "code",
   "execution_count": null,
   "metadata": {},
   "outputs": [],
   "source": [
    "#!pip3 install firebase_admin\n",
    "\n",
    "import firebase_admin\n",
    "from firebase_admin import credentials\n",
    "from firebase_admin import firestore\n",
    "import json\n",
    "import csv as csv"
   ]
  },
  {
   "cell_type": "code",
   "execution_count": 3,
   "metadata": {},
   "outputs": [],
   "source": [
    "def get_classes(db,num,clss,rooms,all_data,lounge):\n",
    "        err=0\n",
    "        loop=0\n",
    "        quit = False\n",
    "        while len(rooms)>0 and not quit:\n",
    "                \n",
    "                if  loop<num:\n",
    "                        loop+=1\n",
    "                        room=rooms[-1]\n",
    "                        print('open',room)\n",
    "                        for l in lounge:\n",
    "                                if l.id==room:\n",
    "                                        \n",
    "                                        main_class=l.to_dict()['classID']\n",
    "                                        if main_class not in all_data:\n",
    "                                                all_data[main_class]=dict()\n",
    "                                        if room not in all_data[main_class]:\n",
    "                                                all_data[main_class][room]=dict()\n",
    "                                        all_data[main_class][room]['document']=l.to_dict()['docID']\n",
    "                                        all_data[main_class][room]['users']=[]\n",
    "                                        all_data[main_class][room]['creater']=clss[main_class]['userID']\n",
    "                                        break\n",
    "\n",
    "                        rooms.pop()\n",
    "                        logs=  db.collection(\"rooms\").document(room).collections()\n",
    "                        for log in logs:\n",
    "                                try:\n",
    "                                        if log.id=='logs':\n",
    "                                                for lo in log.stream():\n",
    "                                                                \n",
    "                                                        user={}\n",
    "                                                        user['user_id']=lo.id\n",
    "                                                        user['user_name']=lo.to_dict()['userName']\n",
    "                                                        if 'email' in lo.to_dict():\n",
    "                                                                user['email']=lo.to_dict()['email']\n",
    "                                                        user['logs']=[]\n",
    "                                                        user['hands']=0\n",
    "                                                        try:\n",
    "                                                                for l in log.document(lo.id).collections():\n",
    "                                                           \n",
    "                                                                        if l.id=='steps':\n",
    "                                                                                        \n",
    "                                                                                for s in l.stream():\n",
    "                                                                                        if 'enter' and 'time' in s.to_dict():\n",
    "                                                                                                user['logs'].append({'enter':s.to_dict()['enter'],'leave':s.to_dict()['leave'],\n",
    "                                                                                                                'duration':s.to_dict()['duration'],'time':s.to_dict()['time'].astimezone().strftime(\"%d/%m/%Y, %H:%M:%S\")})\n",
    "\n",
    "                                                                        elif l.id=='hands':\n",
    "                                                                                for s in l.stream():\n",
    "                                                                                        user['hands']+=1\n",
    "                                                        except:\n",
    "                                                                pass\n",
    "                                                                                \n",
    "                                                        \n",
    "                                                                \n",
    "                                                        all_data[main_class][room]['users'].append(user)      \n",
    "                                except:\n",
    "                                        print(\"err\")\n",
    "                                        err+=1  \n",
    "                        print(room)\n",
    "                else:\n",
    "                        quit=True\n"
   ]
  },
  {
   "cell_type": "code",
   "execution_count": 4,
   "metadata": {},
   "outputs": [],
   "source": [
    "def get_5_class_in_a_row(i,u_n,clss,rooms,all_data):\n",
    "    \n",
    "    cred = credentials.Certificate('pvkey.json')\n",
    "    if i==0:\n",
    "        print(\"______________\",'batdau',\"__________________\")\n",
    "        app = firebase_admin.initialize_app(cred)\n",
    "    else:\n",
    "        print(\"______________\",u_n[i-1],\"__________________\")\n",
    "        app = firebase_admin.initialize_app(cred,name=u_n[i-1])\n",
    "\n",
    "    db = firestore.client()\n",
    "    lounge= db.collection(\"rooms\").stream()\n",
    "    \n",
    "    \n",
    "    get_classes(db,3,clss,rooms,all_data,lounge)\n",
    "    \n",
    "    with open('new_raw_data.json','w') as datata:\n",
    "        print(len(all_data))\n",
    "        json.dump(all_data, datata)\n",
    "def get_data(clss,rooms,all_data):\n",
    "    # Loop hole\n",
    "    # Firebase limit user access to database -> fake user\n",
    "    u_n=['hung20gg','hungg20','mpqh','nthh','meo','meomeomeo','kkk','lamng','lampx84','lll','lil_nas_x',\n",
    "     'jenny','lalisa','rose','jisoo','tueanh04','thuan','ngoccha','taylor','swift','nttuan7','hung19gg','lil_toilet',\n",
    "     'meomeomeomeo','tpa','cnpa','ntpt','ntp','mpn','1shit','exit','kakaka','loc','end','V','Suga','RM','Jungkook']\n",
    "    for i in range(len(u_n)):\n",
    "        \n",
    "        get_5_class_in_a_row(i,u_n,clss,rooms,all_data)"
   ]
  },
  {
   "cell_type": "code",
   "execution_count": 6,
   "metadata": {},
   "outputs": [
    {
     "name": "stdout",
     "output_type": "stream",
     "text": [
      "True\n"
     ]
    }
   ],
   "source": [
    "\n",
    "cl=open('classes.json')\n",
    "\n",
    "have_u=0\n",
    "rooms=[]\n",
    "f_o=False\n",
    "try:\n",
    "    f = open('new_raw_data.json')\n",
    "    all_data = json.load(f)\n",
    "    f_o=True\n",
    "except:\n",
    "    all_data=dict()\n",
    "clss =json.load(cl)\n",
    "    # Iterating through the json\n",
    "    # list\n",
    "take_class=['Yorao','X0bMT','ROmwS','L71ar']\n",
    "not_a_class=['description','subjectID','memberList','userID','name','classID','rooms','order']\n",
    "done=[]\n",
    "for t in all_data:\n",
    "    done.append(t)\n",
    "for clas in clss:\n",
    "    if clas in take_class:\n",
    "        \n",
    "        for room in clss[clas]:\n",
    "            \n",
    "            if room not in not_a_class and room not in done and len(room)>=5 and len(room)<=7:\n",
    "                \n",
    "                rooms.append(room)\n",
    "\n",
    "# Closing file\n",
    "print(f_o)\n",
    "if f_o:\n",
    "    f.close()\n",
    "cl.close()"
   ]
  },
  {
   "cell_type": "code",
   "execution_count": null,
   "metadata": {},
   "outputs": [
    {
     "name": "stdout",
     "output_type": "stream",
     "text": [
      "['viL1Ch', '7K9gs2', 'tlrxeV', 'UI31Yv', 'eZ5VOh', 'l03lkE', 'nA0T4z', 'NGaQ4z', 'ATL2kf', 'yBsdsk', '2ooRiT', 'UbFrDI', 'aL8zwu', 'XxYejV', '30gSeC', 'CdQCHA', 'SyNgFE', 'i9xKXG', 'Wn4FDB', 'pPyNHQ', 'Qq1Mt1', 'EL3lS3', 'MRTUkV', 'qPnLTc', 'qk4RZv', 'EkfcXS', 'UxAiZa', 'nThQRl', 'EDLslR', 'U0z5ZC', 'ta1YwR', 'TeN0BH', '87FIFJ', '0xYhGf', 'EcP9hj']\n"
     ]
    }
   ],
   "source": [
    "print(rooms)"
   ]
  }
 ],
 "metadata": {
  "kernelspec": {
   "display_name": "Python 3",
   "language": "python",
   "name": "python3"
  },
  "language_info": {
   "codemirror_mode": {
    "name": "ipython",
    "version": 3
   },
   "file_extension": ".py",
   "mimetype": "text/x-python",
   "name": "python",
   "nbconvert_exporter": "python",
   "pygments_lexer": "ipython3",
   "version": "3.10.11"
  },
  "orig_nbformat": 4
 },
 "nbformat": 4,
 "nbformat_minor": 2
}
