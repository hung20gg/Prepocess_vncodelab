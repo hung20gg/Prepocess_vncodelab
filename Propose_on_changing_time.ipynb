{
 "cells": [
  {
   "cell_type": "markdown",
   "metadata": {},
   "source": [
    "## Xử lý về dữ liệu thời gian người dùng bị sai lệch, chồng chéo, không chính xác\n",
    "\n",
    "Vncodelab là 1 trang web dạy học trực tuyến được phát triển với mục đích tạo, dạy học và quản lý bài giảng 1 cách dễ dàng. Trong mỗi buổi học, hệ thống sẽ hiển thị chi tiết số lượng học sinh đang theo dõi, slide hiện tại của học viên, thời gian học viên ở từng slide khác nhau. Tuy nhiên do một vài sự cố kỹ thuật, khoảng thời gian học viên theo dõi từng slide đang ghi nhận kết quả không mang tính khả quan, cần được phân tích và sàng lọc kĩ càng.\n",
    "\n",
    "Dưới đây là phương hướng của tôi về cách để can thiệp sâu và làm sạch dữ liệu mà không mất đi tính tổng quát"
   ]
  },
  {
   "cell_type": "markdown",
   "metadata": {},
   "source": [
    "### Dữ liệu về log người dùng của hệ thống có tình trạng ghi nhận thông tin về thời gian người dùng chưa được chính xác. Điều này được gây nên bởi nhiều tác nhân khác nhau\n",
    "1 - Do người dùng mở slide ở một trang mới, dẫn đến tình trạng trạng thái của slide cũ vẫn chưa được đóng. \\\n",
    "2 - Do người dùng treo máy trong một thời gian dài nên data ghi lại không được chính xác. \\\n",
    "3 - Do Firebase giới hạn lượt truy cập và ghi nhận của Database (dữ liệu không được lưu ở Realtime-database do dung lượng lớn)."
   ]
  },
  {
   "cell_type": "code",
   "execution_count": 1,
   "metadata": {},
   "outputs": [
    {
     "data": {
      "text/plain": [
       "{'Yorao': {'G3ERC3': {'document': 'somethingcool',\n",
       "   'users': [{'user_id': '123455abcde',\n",
       "     'log': [{'enter': 14,\n",
       "       'leave': 13,\n",
       "       'duration': 58,\n",
       "       'time': '14/03/2023, 11:59:35'}]}]}}}"
      ]
     },
     "execution_count": 1,
     "metadata": {},
     "output_type": "execute_result"
    }
   ],
   "source": [
    "{\n",
    "    \"Yorao\":{ # Class id\n",
    "        \"G3ERC3\":{ # Room id (tiết học)\n",
    "            \"document\":\"somethingcool\", \n",
    "            \"users\":[\n",
    "                    {\n",
    "                        \"user_id\":\"123455abcde\", # ID người dùng\n",
    "                        \"log\":[ # Log truy cập\n",
    "                                {   # Hành động đầu tiên\n",
    "                                \"enter\":14,  #Slide vào\n",
    "                                \"leave\":13, # Slide học viên rời đi\n",
    "                                \"duration\":58, # Khoảng thời gian ở lại slide (14)\n",
    "                                \"time\": \"14/03/2023, 11:59:35\" # Mốc Thời gian học viên click vào slide (14)\n",
    "                            }\n",
    "                        ]\n",
    "                    }\n",
    "            ]\n",
    "        }\n",
    "    }\n",
    "}"
   ]
  },
  {
   "cell_type": "markdown",
   "metadata": {},
   "source": [
    "Nhận ra khi sử dụng hệ thống, trang web vẫn hiển thị vị trí của học viên theo thời gian thực, điều đó chứng tỏ về thời gian đầu vào (time) của học viên có tỉ lệ đúng cao và lỗi chủ yếu xảy ra ở khoảng thời gian học viên học tập trên slide (duration)\n",
    "\n",
    "### Chi tiết lỗi"
   ]
  },
  {
   "cell_type": "code",
   "execution_count": 2,
   "metadata": {},
   "outputs": [],
   "source": [
    "import json\n",
    "import numpy as np\n",
    "import re\n",
    "import matplotlib.pyplot as plt\n",
    "from datetime import datetime"
   ]
  },
  {
   "cell_type": "code",
   "execution_count": 3,
   "metadata": {},
   "outputs": [],
   "source": [
    "f= open('new_raw_data.json')\n",
    "data1 = f.read()\n",
    "classes = json.loads(data1)\n",
    "f.close()\n",
    "rooms_id = set()\n",
    "Yorao= classes['Yorao']\n",
    "for room in Yorao:\n",
    "    rooms_id.add(room)"
   ]
  },
  {
   "cell_type": "code",
   "execution_count": 4,
   "metadata": {},
   "outputs": [],
   "source": [
    "def to_datetime(s:str) -> datetime:\n",
    "    datetime_str = s\n",
    "    datetime_object = datetime.strptime(datetime_str, '%d/%m/%Y, %H:%M:%S')\n",
    "    return datetime_object\n",
    "def to_second(a) -> int:\n",
    "    return 3600*a.hour+60*a.minute+a.second"
   ]
  },
  {
   "cell_type": "markdown",
   "metadata": {},
   "source": [
    "Lấy các log của giáo viên với email là phamxuanlam@gmail.com"
   ]
  },
  {
   "cell_type": "code",
   "execution_count": 5,
   "metadata": {},
   "outputs": [],
   "source": [
    "teacher_step_dictionary= {}\n",
    "teacher_email= \"phamxuanlam@gmail.com\"\n",
    "for room in rooms_id:\n",
    "    teacher_step_dictionary[room]= {}\n",
    "    for i in range(len(Yorao[room][\"users\"])):\n",
    "        if Yorao[room][\"users\"][i]['email'] == teacher_email:\n",
    "                teacher_step_dictionary[room]['date']= to_datetime(Yorao[room][\"users\"][i]['logs'][0]['time']).date()\n",
    "                teacher_step_dictionary[room]['steps'] =[]\n",
    "                for k in range(len(Yorao[room][\"users\"][i][\"logs\"])):\n",
    "                    teacher_step_dictionary[room]['steps'].append([to_second(to_datetime(Yorao[room][\"users\"][i][\"logs\"][k]['time'])), to_second(to_datetime(Yorao[room][\"users\"][i][\"logs\"][k]['time']))+ Yorao[room][\"users\"][i][\"logs\"][k]['duration'],Yorao[room][\"users\"][i][\"logs\"][k]['enter']])\n",
    "    for room in teacher_step_dictionary:\n",
    "         teacher_step_dictionary[room]['steps'].sort()"
   ]
  },
  {
   "cell_type": "markdown",
   "metadata": {},
   "source": [
    "Biểu diễn các khoảng thời gian của giáo viên lên đồ thị với mỗi đoạn thẳng ứng với các khoảng thời gian giáo viên ở một slide nào đó"
   ]
  },
  {
   "cell_type": "code",
   "execution_count": 6,
   "metadata": {},
   "outputs": [
    {
     "data": {
      "text/plain": [
       "35322"
      ]
     },
     "execution_count": 6,
     "metadata": {},
     "output_type": "execute_result"
    }
   ],
   "source": [
    "minn=99999999\n",
    "maxx=0\n",
    "for time in teacher_step_dictionary['8JSMUQ']['steps']:\n",
    "    minn=min(minn,time[0],time[1])\n",
    "    maxx=max(minn,time[0],time[1])\n",
    "timestamp=np.array(teacher_step_dictionary['8JSMUQ']['steps'],dtype=np.int32)\n",
    "a=np.ones((timestamp.shape[0],2),dtype=np.int32)*minn\n",
    "b=np.concatenate([a,np.zeros((timestamp.shape[0],1),dtype=np.int32)],axis=1)\n",
    "x=timestamp-b\n",
    "minn"
   ]
  },
  {
   "cell_type": "code",
   "execution_count": 7,
   "metadata": {},
   "outputs": [
    {
     "data": {
      "image/png": "[encoded data removed]",
      "text/plain": [
       "<Figure size 640x480 with 1 Axes>"
      ]
     },
     "metadata": {},
     "output_type": "display_data"
    }
   ],
   "source": [
    "plt.plot([x[:,0],x[:,1]],[x[:,2],x[:,2]])\n",
    "plt.xlabel('Sildes') \n",
    "plt.ylabel('Time stamp')\n",
    "plt.title(\"Slide followed by timestamp (raw)\")\n",
    "plt.show()"
   ]
  },
  {
   "cell_type": "markdown",
   "metadata": {},
   "source": [
    "Có thể thấy là dữ liệu về thời gian người dùng có những mức bị trùng về thời gian, khiến cho nhiều lúc lầm tưởng người dùng đang ở 2 slide khác nhau, điều này gây khó khăn rất lớn trong việc theo dõi các hành động của các người dùng với nhau.\n",
    "\n",
    "Sau khi loại bỏ những slide có duration ngắn hơn 90 giây (gap=90) ta có đồ thị mới nhìn có vẻ đẹp hơn nhưng hiện tượng trùng lặp vẫn xảy ra"
   ]
  },
  {
   "cell_type": "code",
   "execution_count": 8,
   "metadata": {},
   "outputs": [
    {
     "data": {
      "text/plain": [
       "array([[   0,  220,    0],\n",
       "       [ 247,  493,    1],\n",
       "       [ 427,  608,    2],\n",
       "       [ 757, 1087,    3],\n",
       "       [1311, 1794,    4],\n",
       "       [1575, 1837,    2],\n",
       "       [1759, 1943,    4],\n",
       "       [2446, 3132,    5],\n",
       "       [3352, 4259,    6],\n",
       "       [3659, 3870,    8],\n",
       "       [4954, 6249,    9],\n",
       "       [5346, 5738,   10],\n",
       "       [5569, 5706,   10],\n",
       "       [5713, 5842,    9],\n",
       "       [6366, 6568,   21]])"
      ]
     },
     "execution_count": 8,
     "metadata": {},
     "output_type": "execute_result"
    }
   ],
   "source": [
    "gap=90\n",
    "rmv=[]\n",
    "for i,line in enumerate(x):\n",
    "    if (line[1]-line[0]<gap):\n",
    "        rmv.append(i)\n",
    "rmv\n",
    "x1=np.delete(x,rmv,axis=0)\n",
    "x1[:,:]"
   ]
  },
  {
   "cell_type": "code",
   "execution_count": 9,
   "metadata": {},
   "outputs": [
    {
     "data": {
      "image/png": "[encoded data removed]",
      "text/plain": [
       "<Figure size 640x480 with 1 Axes>"
      ]
     },
     "metadata": {},
     "output_type": "display_data"
    }
   ],
   "source": [
    "plt.plot([x1[:,0],x1[:,1]],[x1[:,2],x1[:,2]])\n",
    "plt.xlabel('Sildes') \n",
    "plt.ylabel('Time stamp')\n",
    "plt.title(\"Slide followed by timestamp (removing length<2mins)\")\n",
    "plt.show()"
   ]
  },
  {
   "cell_type": "markdown",
   "metadata": {},
   "source": [
    "### Giải pháp\n",
    "Giải pháp được đưa ra là chỉ dữ lại các mốc thời gian đầu vào và lựa chọn khoảng thời gian (duration) sao cho kết thúc ở slide A sẽ là bắt đầu ở slide B"
   ]
  },
  {
   "cell_type": "code",
   "execution_count": 10,
   "metadata": {},
   "outputs": [],
   "source": [
    "#merge consecutive logs that in the same slide\n",
    "rmv2=[]\n",
    "for i in range (len(x1)-1):\n",
    "    if x1[i,2]==x1[i+1,2]:\n",
    "\n",
    "        x1[i+1,0]=min(x1[i,0],x1[i+1,0])\n",
    "        x1[i+1,1]=max(x1[i,1],x1[i+1,1])\n",
    "        rmv2.append(i)\n",
    "        continue\n",
    "\n",
    "x2=np.delete(x1,rmv2,axis=0)\n",
    "for i in range (len(x2)-1):\n",
    "    if x2[i,1]<x2[i+1,0]:\n",
    "        x2[i,1]=x2[i+1,0]\n",
    "    elif x2[i,1]>x2[i+1,0]:\n",
    "        x2[i,1]=x2[i+1,0]"
   ]
  },
  {
   "cell_type": "code",
   "execution_count": 11,
   "metadata": {},
   "outputs": [
    {
     "data": {
      "image/png": "[encoded data removed]",
      "text/plain": [
       "<Figure size 640x480 with 1 Axes>"
      ]
     },
     "metadata": {},
     "output_type": "display_data"
    },
    {
     "data": {
      "text/plain": [
       "array([[   0,  247,    0],\n",
       "       [ 247,  427,    1],\n",
       "       [ 427,  757,    2],\n",
       "       [ 757, 1311,    3],\n",
       "       [1311, 1575,    4],\n",
       "       [1575, 1759,    2],\n",
       "       [1759, 2446,    4],\n",
       "       [2446, 3352,    5],\n",
       "       [3352, 3659,    6],\n",
       "       [3659, 4954,    8],\n",
       "       [4954, 5346,    9],\n",
       "       [5346, 5713,   10],\n",
       "       [5713, 6366,    9],\n",
       "       [6366, 6568,   21]])"
      ]
     },
     "execution_count": 11,
     "metadata": {},
     "output_type": "execute_result"
    }
   ],
   "source": [
    "plt.plot([x2[:,0],x2[:,1]],[x2[:,2],x2[:,2]])\n",
    "plt.xlabel('Sildes') \n",
    "plt.ylabel('Time stamp')\n",
    "plt.title(\"Slide followed by timestamp (perfecting intervals)\")\n",
    "plt.show()\n",
    "x2"
   ]
  },
  {
   "cell_type": "code",
   "execution_count": 13,
   "metadata": {},
   "outputs": [
    {
     "name": "stdout",
     "output_type": "stream",
     "text": [
      "% preserved time cover the original time: 0.8255704951906389\n"
     ]
    }
   ],
   "source": [
    "x3=np.delete(x1,rmv2,axis=0)\n",
    "x4=np.delete(x1,rmv2,axis=0)\n",
    "for i in range (len(x3)):\n",
    "    x3[i,0]=max(x3[i,0],x2[i,0])\n",
    "    x3[i,1]=min(x3[i,1],x2[i,1])\n",
    "rate_origin=np.mean((x3[:,1]-x3[:,0])/(x4[:,1]-x4[:,0]+1e-7))\n",
    "\n",
    "\n",
    "print(\"% preserved time cover the original time:\",rate_origin)\n",
    "\n",
    "# origin time    ________________________\n",
    "# modified time  ________________________________  \n",
    "#                |    preserved time    | changed\n",
    "\n",
    "# origin time    ________________________________\n",
    "# modified time  _______________________  \n",
    "#                |    preserved time    | changed"
   ]
  },
  {
   "cell_type": "markdown",
   "metadata": {},
   "source": [
    "### Đánh giá và Nhận định\n",
    "Có thể thấy giải pháp này đã khiến cho bộ dữ liệu về thời gian đã được làm sạch, không xảy ra tình trạng ngắt quãng hay trùng lặp như ban đầu. \\\n",
    "Với tỉ lên bao phủ 83% khoảng thời gian thực tế, cách biến đổi này vẫn phần nào giữ được giá trị cốt lõi của dữ liệu, không thay đổi quá nhiều đến kết quả cuối."
   ]
  }
 ],
 "metadata": {
  "kernelspec": {
   "display_name": "Python 3",
   "language": "python",
   "name": "python3"
  },
  "language_info": {
   "codemirror_mode": {
    "name": "ipython",
    "version": 3
   },
   "file_extension": ".py",
   "mimetype": "text/x-python",
   "name": "python",
   "nbconvert_exporter": "python",
   "pygments_lexer": "ipython3",
   "version": "3.10.5"
  },
  "orig_nbformat": 4
 },
 "nbformat": 4,
 "nbformat_minor": 2
}
