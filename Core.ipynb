{
 "cells": [
  {
   "cell_type": "markdown",
   "metadata": {},
   "source": [
    "# Cleaning and soft anaylsis on students' behaviour\n",
    "\n",
    "__Target:__ 4 classes in Vncodelab\\\n",
    "__Data:__ logs of around 200 students in those 4 classes \n",
    "\n",
    "__Extract feature:__ \n",
    "* Student id\n",
    "* Participation rate\n",
    "* Consistancy rate\n",
    "* consistancy rate in first half semester\n",
    "* Consistancy rate in second half semester\n",
    "* Time for reveal (beside the teaching day)\n",
    "* GPA scores\n",
    "* Is the subject complusory\n",
    "\n",
    "\n",
    "__Further development:__ \n",
    "* Need to create a time intervals for \"teaching\", avoiding the change that teachers using slides after \"teaching hours\" make students losing their \"focusing score\" and student losing \"review time\" if they look at the slides later in that day"
   ]
  },
  {
   "cell_type": "markdown",
   "metadata": {},
   "source": [
    "## 1. Cleaning the dataset"
   ]
  },
  {
   "cell_type": "code",
   "execution_count": 1,
   "metadata": {},
   "outputs": [],
   "source": [
    "# !pip3 install matplotlib\n",
    "import codecs\n",
    "import json\n",
    "import numpy as np\n",
    "import pandas as pd\n",
    "import re\n",
    "import matplotlib.pyplot as plt\n",
    "from datetime import datetime"
   ]
  },
  {
   "cell_type": "code",
   "execution_count": 2,
   "metadata": {},
   "outputs": [],
   "source": [
    "subject={\n",
    "    \"Java\":[\"Yorao\"],\n",
    "    \"PrmWeb\":[\"X0bMT\"],\n",
    "    \"DesWeb\":[\"L71ar\",\"ROmwS\",\"QComg\"],\n",
    "    \"Python\":[\"XWTFe\"]\n",
    "}"
   ]
  },
  {
   "cell_type": "code",
   "execution_count": 3,
   "metadata": {},
   "outputs": [],
   "source": [
    "f= open('data/new_raw_data.json')\n",
    "data1 = f.read()\n",
    "classes = json.loads(data1)\n",
    "f.close()\n",
    "ava_class=[]\n",
    "for c in classes:\n",
    "    ava_class.append(c)\n",
    "\n",
    "#Currently there is only one teacher in 4 targeted class\n",
    "teachers=[\"phamxuanlam@gmail.com\"]"
   ]
  },
  {
   "cell_type": "markdown",
   "metadata": {},
   "source": [
    "### Create a student list"
   ]
  },
  {
   "cell_type": "code",
   "execution_count": 4,
   "metadata": {},
   "outputs": [],
   "source": [
    "stu = open('data/classes.json')\n",
    "data=json.load(stu)\n",
    "stu.close()\n",
    "data_students=dict()\n",
    "for cls_name in data:\n",
    "    if cls_name in ava_class:\n",
    "        list_stu=data[cls_name]['memberList'].split()\n",
    "        \n",
    "        for stu_l in list_stu:\n",
    "            if stu_l not in teachers:\n",
    "                data_students[stu_l+'.'+cls_name]=dict()\n",
    "                data_students[stu_l+'.'+cls_name]['attend']=[]\n",
    "                data_students[stu_l+'.'+cls_name]['follow_r']=[]\n",
    "                data_students[stu_l+'.'+cls_name]['follow']=[]\n",
    "                data_students[stu_l+'.'+cls_name]['review']=0"
   ]
  },
  {
   "cell_type": "code",
   "execution_count": 5,
   "metadata": {},
   "outputs": [],
   "source": [
    "def to_datetime(s:str) -> datetime:\n",
    "    datetime_str = s\n",
    "    datetime_object = datetime.strptime(datetime_str, '%d/%m/%Y, %H:%M:%S')\n",
    "    return datetime_object\n",
    "def to_second(a) -> int:\n",
    "    return 3600*a.hour+60*a.minute+a.second"
   ]
  },
  {
   "cell_type": "markdown",
   "metadata": {},
   "source": [
    "### Refine the time logs\n",
    "Tranforms the time logs into consecutive intervals (num=120 for teachers, 90 for students)\n",
    "\n",
    "[How it done !](Propose_on_changing_time.ipynb)"
   ]
  },
  {
   "cell_type": "code",
   "execution_count": 6,
   "metadata": {},
   "outputs": [],
   "source": [
    "def generate_time_interval(timeseries,num):\n",
    "    x=np.array(timeseries,dtype=np.int32)\n",
    "    rmv=[]\n",
    "    for i,line in enumerate(x):\n",
    "        if (line[1]-line[0]<num):\n",
    "            rmv.append(i)\n",
    "    x1=np.delete(x,rmv,axis=0)\n",
    "    rmv2=[]\n",
    "    for i in range (len(x1)-1):\n",
    "        if x1[i,2]==x1[i+1,2]:\n",
    "\n",
    "            x1[i+1,0]=min(x1[i,0],x1[i+1,0])\n",
    "            x1[i+1,1]=max(x1[i,1],x1[i+1,1])\n",
    "            rmv2.append(i)\n",
    "            continue\n",
    "    x2=np.delete(x1,rmv2,axis=0)\n",
    "    for i in range (len(x2)-1):\n",
    "        if x2[i,1]<x2[i+1,0]:\n",
    "            x2[i,1]=x2[i+1,0]\n",
    "        elif x2[i,1]>x2[i+1,0]:\n",
    "            x2[i,1]=x2[i+1,0]\n",
    "    return x2.tolist()"
   ]
  },
  {
   "cell_type": "markdown",
   "metadata": {},
   "source": [
    "### Getting the teachers' time\n",
    "\n",
    "For fast and easy comparision, the list of logs will have another copy that mostly in dictionary"
   ]
  },
  {
   "cell_type": "code",
   "execution_count": 7,
   "metadata": {},
   "outputs": [],
   "source": [
    "#require rooms_id\n",
    "def get_teacher_time_intervals(classs,rooms_id,teacher):\n",
    "    #store moves as a 2d numpy->list \n",
    "    teacher_step_dictionary= dict()\n",
    "    teacher_email= teacher\n",
    "    for room in rooms_id:\n",
    "        teacher_step_dictionary[room]= dict()\n",
    "        for i in range(len(classs[room][\"users\"])):\n",
    "            if classs[room][\"users\"][i]['email'] in teacher_email:\n",
    "                \n",
    "                try:\n",
    "                    teacher_step_dictionary[room]['teacher']=classs[room][\"users\"][i]['email']\n",
    "                    temp_teach_day=dict() #to_datetime(classs[room][\"users\"][i]['logs'][0]['time']).date()\n",
    "                    for day in classs[room][\"users\"][i][\"logs\"]:\n",
    "                        if to_datetime(day['time']).date().strftime(\"%d/%m/%Y\") not in temp_teach_day:\n",
    "                            temp_teach_day[to_datetime(day['time']).date().strftime(\"%d/%m/%Y\")]=0\n",
    "                        temp_teach_day[to_datetime(day['time']).date().strftime(\"%d/%m/%Y\")]+=1\n",
    "                    mx_t=0\n",
    "                    t=to_datetime(classs[room][\"users\"][i]['logs'][0]['time']).strftime(\"%d/%m/%Y\")\n",
    "                    for date in temp_teach_day:\n",
    "                        if temp_teach_day[date]>mx_t:\n",
    "                            mx_t=temp_teach_day[date]\n",
    "                            t=date\n",
    "                    teach_day=datetime.strptime(t,\"%d/%m/%Y\").date()\n",
    "                    teacher_step_dictionary[room]['date']=teach_day\n",
    "                    teacher_step_dictionary[room]['temp_steps'] =[]\n",
    "                    for k in range(len(classs[room][\"users\"][i][\"logs\"])):\n",
    "                        if to_datetime(classs[room][\"users\"][i][\"logs\"][k]['time']).date()==teach_day:\n",
    "                            teacher_step_dictionary[room]['temp_steps'].append([to_second(to_datetime(classs[room][\"users\"][i][\"logs\"][k]['time'])),\\\n",
    "                                                        to_second(to_datetime(classs[room][\"users\"][i][\"logs\"][k]['time']))+classs[room][\"users\"][i][\"logs\"][k]['duration'],\\\n",
    "                                                        classs[room][\"users\"][i][\"logs\"][k]['enter']])\n",
    "                    break\n",
    "                except:\n",
    "                    teacher_step_dictionary[room]['temp_steps']=[]\n",
    "                    teacher_step_dictionary[room]['date']=datetime.strptime(\"01/01/2024\",'%d/%m/%Y')\n",
    "                \n",
    "    for room in teacher_step_dictionary:\n",
    "        if len(teacher_step_dictionary[room]['temp_steps'])>0:\n",
    "            teacher_step_dictionary[room]['temp_steps'].sort()\n",
    "            teacher_step_dictionary[room]['steps']=generate_time_interval(teacher_step_dictionary[room]['temp_steps'],120)\n",
    "            teacher_step_dictionary[room]['temp_steps'].clear()\n",
    "        else:\n",
    "            teacher_step_dictionary[room]['steps']=[[0,1,0]]\n",
    "    return teacher_step_dictionary"
   ]
  },
  {
   "cell_type": "code",
   "execution_count": null,
   "metadata": {},
   "outputs": [],
   "source": [
    "def teacher_time_to_dict(teacher_moves):\n",
    "    #stored as a key-value pair for compare\n",
    "    moves=dict()\n",
    "    for room in teacher_moves:\n",
    "        moves[room]=dict()\n",
    "        moves[room]['date']=teacher_moves[room]['date']\n",
    "        moves[room]['steps']=dict()\n",
    "        for move in teacher_moves[room]['steps']:\n",
    "            if str(move[2]) not in moves[room]['steps']:\n",
    "                moves[room]['steps'][str(move[2])]=[]\n",
    "            moves[room]['steps'][str(move[2])].append([move[0],move[1]])\n",
    "    return moves  "
   ]
  },
  {
   "cell_type": "markdown",
   "metadata": {},
   "source": [
    "### Collecting the students' time logs and present in different rooms"
   ]
  },
  {
   "cell_type": "code",
   "execution_count": 8,
   "metadata": {},
   "outputs": [],
   "source": [
    "def get_student_time_intervals_per_class(classs,class_room,date,teacher):\n",
    "    #Get the time intervals of all student\n",
    "    #Return both in_class and review logs\n",
    "    students_step_dictionary=dict()\n",
    "    # students_review=dict()\n",
    "    l=-1\n",
    "    for stu_l in data_students:\n",
    "        if '.'+classs in stu_l:\n",
    "            if l !=-1:\n",
    "                l=len(data_students[stu_l]['attend'])\n",
    "            data_students[stu_l]['attend'].append(0)\n",
    "    \n",
    "    for user in class_room[\"users\"]:\n",
    "        if user[\"email\"] != teacher and user[\"email\"]+'.'+classs in data_students:\n",
    "            # review_time=0\n",
    "            temp_time=[]\n",
    "            for time in user[\"logs\"]:\n",
    "                if to_datetime(time['time']).date()==date:\n",
    "                    data_students[user[\"email\"]+'.'+classs]['attend'][l]=1\n",
    "                    temp_time.append([to_second(to_datetime( time['time'] )),to_second(to_datetime( time['time'] ))+time['duration'],time['enter']])\n",
    "                else:\n",
    "                    # review_time+=time['duration']\n",
    "                    data_students[user[\"email\"]+'.'+classs]['review']+=time['duration']\n",
    "            temp_time.sort()\n",
    "            students_step_dictionary[user[\"email\"]+'.'+classs]=generate_time_interval(temp_time,90)\n",
    "            # students_review[user[\"email\"]+'.'+classs]=review_time\n",
    "            temp_time.clear()\n",
    "            \n",
    "    return  students_step_dictionary"
   ]
  },
  {
   "cell_type": "markdown",
   "metadata": {},
   "source": [
    "### Fitting the students' interval with the teachers' ones\n",
    "\n",
    "The students' interval are still stored for later analysis (if needed)"
   ]
  },
  {
   "cell_type": "code",
   "execution_count": null,
   "metadata": {},
   "outputs": [],
   "source": [
    "def check_interval(st,t):\n",
    "    \n",
    "    # Get the right join of 2 intervals\n",
    "    \n",
    "    if st[0]>=t[0]and st[1]<=t[1]:\n",
    "        return [st[0],st[1]]\n",
    "    if st[0]<=t[0] and st[1]<=t[1]:\n",
    "        if st[1]>=t[0]:\n",
    "            return [t[0],st[1]]\n",
    "        return [0,0]\n",
    "    if st[0]>=t[0] and st[1]>=t[1]:\n",
    "        if t[1]>=st[0]:\n",
    "            return [st[0],t[1]]\n",
    "        return [0,0]\n",
    "    if st[0]<=t[0] and st[1]>=t[1]:\n",
    "        return [t[0],t[1]]\n",
    "    return 0,0"
   ]
  },
  {
   "cell_type": "code",
   "execution_count": 9,
   "metadata": {},
   "outputs": [],
   "source": [
    "def follow_up_in_general(teacher_step,student_steps):\n",
    "    #check the inner join of 2 space: teacher and student at a certain slide\n",
    "    student_shaded_area=dict()\n",
    "    for student in student_steps:\n",
    "        shaded_area=[]\n",
    "        for move in student_steps[student]:\n",
    "            # print(move)\n",
    "            if str(move[2]) not in teacher_step:\n",
    "                continue\n",
    "            else :\n",
    "                for t_mv in teacher_step[str(move[2])]:\n",
    "                    if check_interval([move[0],move[1]],t_mv) !=[0,0]:\n",
    "                        shaded_area.append(check_interval([move[0],move[1]],t_mv)+[move[2]])\n",
    "        shaded_area.sort()\n",
    "        student_shaded_area[student]=shaded_area\n",
    "    return student_shaded_area"
   ]
  },
  {
   "cell_type": "markdown",
   "metadata": {},
   "source": [
    "### Follow up with restriction\n",
    "This function will count the amount of time that student change the slides after the direction of teacher. The delay is set to lower than lim (we use 60s in this case)\n",
    "### Follow up without restriction\n",
    "This function will count the time that student follow the teacher (inner join of 2 intervals)"
   ]
  },
  {
   "cell_type": "code",
   "execution_count": 10,
   "metadata": {},
   "outputs": [],
   "source": [
    "#teacher_moves_dict\n",
    "def follow_up_with_restrict(teacher_step,student_step,lim):\n",
    "    # force user to follow teacher only after a certain amount of time (declared by lim)\n",
    "    # re=dict()\n",
    "    for student in student_step:\n",
    "        start=dict()\n",
    "        corr=0\n",
    "        lens=0\n",
    "        for mv in student_step[student]:\n",
    "            if str(mv[2]) not in start:\n",
    "                start[str(mv[2])]=[]\n",
    "            start[str(mv[2])].append(mv[0])\n",
    "        for slide in teacher_step:\n",
    "            lens+=len(teacher_step[slide])\n",
    "            if slide in start:\n",
    "                for mv in teacher_step[slide]:\n",
    "                \n",
    "                    for st_mv in start[slide]:\n",
    "                        if st_mv in range(mv[0],mv[0]+lim+1):\n",
    "                            corr += 1\n",
    "                            break\n",
    "        # re[student]=max(0,min(corr/lens,1))\n",
    "        data_students[student]['follow_r'].append(max(0,min(corr/lens,1)))\n",
    "        \n",
    "    # return re"
   ]
  },
  {
   "cell_type": "code",
   "execution_count": 11,
   "metadata": {},
   "outputs": [],
   "source": [
    "#teacher_moves\n",
    "def follow_up_without_restrict(teacher_step,student_step):\n",
    "    # only calcuate total time of student/teacher (tracked)\n",
    "    # re=dict()\n",
    "    teacher_time=0\n",
    "    for mv in teacher_step:\n",
    "        teacher_time+=(mv[1]-mv[0])\n",
    "    for student in student_step:\n",
    "        student_time=0\n",
    "        for mv in student_step[student]:\n",
    "            student_time+=(mv[1]-mv[0])\n",
    "        # re[student]=max(0,min(student_time/teacher_time,1))\n",
    "        data_students[student]['follow'].append(max(0,min(student_time/teacher_time,1)))\n",
    "    # return re"
   ]
  },
  {
   "cell_type": "markdown",
   "metadata": {},
   "source": [
    "### For further analysis, I also save the timestamps in json format"
   ]
  },
  {
   "cell_type": "code",
   "execution_count": 34,
   "metadata": {},
   "outputs": [],
   "source": [
    "students_timestamps=dict()\n",
    "teachers_timestamps=dict()\n",
    "for cls_name in ava_class:\n",
    "    students_timestamp[cls_name]=dict()\n",
    "    # teachers_timestamp[cls_name]=dict()"
   ]
  },
  {
   "cell_type": "markdown",
   "metadata": {},
   "source": [
    "### Example of time intervals in a lecture\n",
    "\n",
    "We will take a random class as an example of how the algorithms can match the students' time with teachers' time\n",
    "\n",
    "Let's choose room '8JSMUQ' in class 'Yorao' for a clear example\n"
   ]
  },
  {
   "cell_type": "code",
   "execution_count": 12,
   "metadata": {},
   "outputs": [],
   "source": [
    "Yorao=classes[\"Yorao\"]\n",
    "rooms_id = [room for room in classes[\"Yorao\"]]\n",
    "teacher_moves=get_teacher_time_intervals(Yorao,rooms_id,teachers)\n",
    "students_moves=get_student_time_intervals_per_class(\"Yorao\",Yorao['8JSMUQ'],teacher_moves['8JSMUQ']['date'],teacher_moves['8JSMUQ']['teacher'])\n",
    "teacher_moves_dict=teacher_time_to_dict(teacher_moves)\n",
    "x1=follow_up_in_general(teacher_moves_dict['8JSMUQ']['steps'],students_moves)\n"
   ]
  },
  {
   "cell_type": "markdown",
   "metadata": {},
   "source": [
    "#### Teacher's timestamp"
   ]
  },
  {
   "cell_type": "code",
   "execution_count": 26,
   "metadata": {},
   "outputs": [
    {
     "data": {
      "image/png": "[encoded data removed]",
      "text/plain": [
       "<Figure size 640x480 with 1 Axes>"
      ]
     },
     "metadata": {},
     "output_type": "display_data"
    }
   ],
   "source": [
    "x2=np.array(teacher_moves['8JSMUQ']['steps'])\n",
    "plt.plot([x2[:,0],x2[:,1]],[x2[:,2],x2[:,2]],linewidth=3)\n",
    "plt.ylabel('Sildes') \n",
    "plt.xlabel('Time stamp (s)')\n",
    "plt.title(\"Slides followed by timestamp (teacher)\")\n",
    "plt.show()"
   ]
  },
  {
   "cell_type": "markdown",
   "metadata": {},
   "source": [
    "#### Students' timestamp "
   ]
  },
  {
   "cell_type": "code",
   "execution_count": 27,
   "metadata": {},
   "outputs": [
    {
     "data": {
      "image/png": "[encoded data removed]",
      "text/plain": [
       "<Figure size 640x480 with 1 Axes>"
      ]
     },
     "metadata": {},
     "output_type": "display_data"
    }
   ],
   "source": [
    "stop=30\n",
    "a=stop\n",
    "s=\"s\" if a>1 else \"\"\n",
    "for stu in students_moves: #any<40\n",
    "    x2=np.array(students_moves[stu])\n",
    "    if x2.shape[0]>0:\n",
    "        plt.plot([x2[:,0],x2[:,1]],[x2[:,2],x2[:,2]])\n",
    "\n",
    "    stop-=1\n",
    "    if stop==0:\n",
    "        break\n",
    "plt.ylabel('Sildes') \n",
    "plt.xlabel('Time stamp (s)')\n",
    "plt.title(f\"Slides followed by timestamp ({a} student{s}) (raw)\")\n",
    "plt.show()"
   ]
  },
  {
   "cell_type": "markdown",
   "metadata": {},
   "source": [
    "#### Students' timestamp after matching with teacher's timestamp"
   ]
  },
  {
   "cell_type": "code",
   "execution_count": 33,
   "metadata": {},
   "outputs": [
    {
     "data": {
      "image/png": "[encoded data removed]",
      "text/plain": [
       "<Figure size 640x480 with 1 Axes>"
      ]
     },
     "metadata": {},
     "output_type": "display_data"
    }
   ],
   "source": [
    "stop=30\n",
    "a=stop\n",
    "s=\"s\" if a>1 else \"\"\n",
    "for stu in x1: #any<40\n",
    "    x2=np.array(x1[stu])\n",
    "    if x2.shape[0]>0:\n",
    "        plt.plot([x2[:,0],x2[:,1]],[x2[:,2],x2[:,2]],color='#CF4CD0',alpha=1/stop,linewidth=5)\n",
    "\n",
    "    stop-=1\n",
    "    if stop==0:\n",
    "        break\n",
    "plt.ylabel('Sildes') \n",
    "plt.xlabel('Time stamp (h)')\n",
    "plt.title(f\"Slides followed by timestamp ({a} student{s}) (edited)\")\n",
    "plt.show()"
   ]
  },
  {
   "cell_type": "markdown",
   "metadata": {},
   "source": [
    "Each student have different time logs, and we have to collect only the time that student spend on the class \\\n",
    "We started to see the similar pattern of students' move to teacher' move after changing the time intervals of students\\\n",
    "In this class, we can see that students paying attention mostly in the later half of the lecture"
   ]
  },
  {
   "cell_type": "code",
   "execution_count": null,
   "metadata": {},
   "outputs": [],
   "source": [
    "def analysis_a_room(classs,room_id,teacher_moves,teacher_moves_dict):\n",
    "    students_moves=get_student_time_intervals_per_class(classs,classes[classs][room_id],teacher_moves[room_id]['date'],teacher_moves[room_id]['teacher'])\n",
    "    x1=follow_up_in_general(teacher_moves_dict[room_id]['steps'],students_moves)\n",
    "    follow_up_with_restrict(teacher_moves_dict[room_id]['steps'],x1,60)\n",
    "    follow_up_without_restrict(teacher_moves[room_id]['steps'],x1)\n",
    "    students_timestamps[classs][room_id]=x1"
   ]
  },
  {
   "cell_type": "code",
   "execution_count": null,
   "metadata": {},
   "outputs": [],
   "source": [
    "# save all student in a dict ->numpy ->pandas\n",
    "def analysis_a_class(cls_name):\n",
    "    rooms_id=[]\n",
    "    for room in classes[cls_name]:\n",
    "        rooms_id.append(room)\n",
    "    teacher_moves=get_teacher_time_intervals(classes[cls_name],rooms_id,teachers)\n",
    "    teacher_moves_dict=teacher_time_to_dict(teacher_moves)\n",
    "    teachers_timestamps[classs]=teacher_moves\n",
    "    for room in rooms_id:\n",
    "        \n",
    "        if len(teacher_moves[room]['steps']) >1:\n",
    "            analysis_a_room(cls_name,room,teacher_moves,teacher_moves_dict)"
   ]
  },
  {
   "cell_type": "markdown",
   "metadata": {},
   "source": [
    "### Frequency\n",
    "This function will return how consistancy the student is [participant rate, consistancy rate, consistancy in first half semester, consistancy in second half semester] \\\n",
    "consistancy: evaluate the consistance of a student(1 is either allway study or never study, 0 is always skip the class after)"
   ]
  },
  {
   "cell_type": "code",
   "execution_count": null,
   "metadata": {},
   "outputs": [],
   "source": [
    "def frequency(array):\n",
    "    a=0\n",
    "    shift=0\n",
    "    l_shift=0\n",
    "    r_shift=0\n",
    "    mid=len(array)//2\n",
    "    for i in range(len(array)-1):\n",
    "        if array[i]==1:\n",
    "            a+=1\n",
    "            if array[i+1]==0:\n",
    "                shift+=1\n",
    "                if i<=mid:\n",
    "                    l_shift+=1\n",
    "                else:\n",
    "                    r_shift+=1\n",
    "    if array[-1]==1:\n",
    "        a+=1\n",
    "        if array[-2]==0:\n",
    "            r_shift+=1\n",
    "    return [a/len(array),(1-shift*2/len(array)),max(0,(1-l_shift*2/mid)),max(0,(1-r_shift*2/(len(array)-mid)))]\n",
    "        "
   ]
  },
  {
   "cell_type": "code",
   "execution_count": null,
   "metadata": {},
   "outputs": [],
   "source": [
    "#redefine data_students\n",
    "data_students=dict()\n",
    "for cls_name in data:\n",
    "    if cls_name in ava_class:\n",
    "        list_stu=data[cls_name]['memberList'].split()\n",
    "        for stu_l in list_stu:\n",
    "            if stu_l not in teachers:\n",
    "                data_students[stu_l+'.'+cls_name]=dict()\n",
    "                data_students[stu_l+'.'+cls_name]['attend']=[]\n",
    "                data_students[stu_l+'.'+cls_name]['follow_r']=[]\n",
    "                data_students[stu_l+'.'+cls_name]['follow']=[]\n",
    "                data_students[stu_l+'.'+cls_name]['review']=0"
   ]
  },
  {
   "cell_type": "code",
   "execution_count": null,
   "metadata": {},
   "outputs": [],
   "source": [
    "for cls_name in classes:\n",
    "    analysis_a_class(cls_name)"
   ]
  },
  {
   "cell_type": "code",
   "execution_count": null,
   "metadata": {},
   "outputs": [],
   "source": [
    "with open('data/teachers_timestamps.json','w') as ts:\n",
    "    ts.dump(teachers_timestamps,ts)\n",
    "with open('data/students_timestamps.json','w') as ts:\n",
    "    ts.dump(students_timestamps,ts)"
   ]
  },
  {
   "cell_type": "code",
   "execution_count": null,
   "metadata": {},
   "outputs": [],
   "source": [
    "def sum_up(data_students):\n",
    "    for stu in data_students:\n",
    "        # print(stu,len(data_students[stu]['attend']))\n",
    "        data_students[stu]['f_ad']=frequency(data_students[stu]['attend'])\n",
    "        data_students[stu]['a_f']=(sum(data_students[stu]['follow']))/(len(data_students[stu]['follow'])+1e-7)\n",
    "        data_students[stu]['a_f_r']=sum(data_students[stu]['follow_r'])/(len(data_students[stu]['follow_r'])+1e-7)\n",
    "sum_up(data_students)\n"
   ]
  },
  {
   "cell_type": "code",
   "execution_count": null,
   "metadata": {},
   "outputs": [],
   "source": [
    "refined=[]\n",
    "for stu in data_students:\n",
    "    refined.append([stu,\\\n",
    "                    data_students[stu]['f_ad'][0],\\\n",
    "                    data_students[stu]['f_ad'][1],\\\n",
    "                    data_students[stu]['f_ad'][2],\\\n",
    "                    data_students[stu]['f_ad'][3],\\\n",
    "                    data_students[stu]['a_f'],\\\n",
    "                    data_students[stu]['a_f_r'],\\\n",
    "                    data_students[stu]['review']])\n"
   ]
  },
  {
   "cell_type": "code",
   "execution_count": null,
   "metadata": {},
   "outputs": [
    {
     "data": {
      "text/html": [
       "<div>\n",
       "<style scoped>\n",
       "    .dataframe tbody tr th:only-of-type {\n",
       "        vertical-align: middle;\n",
       "    }\n",
       "\n",
       "    .dataframe tbody tr th {\n",
       "        vertical-align: top;\n",
       "    }\n",
       "\n",
       "    .dataframe thead th {\n",
       "        text-align: right;\n",
       "    }\n",
       "</style>\n",
       "<table border=\"1\" class=\"dataframe\">\n",
       "  <thead>\n",
       "    <tr style=\"text-align: right;\">\n",
       "      <th></th>\n",
       "      <th>s-email</th>\n",
       "      <th>% participate</th>\n",
       "      <th>consistency</th>\n",
       "      <th>c_in_f_half</th>\n",
       "      <th>c_in_s_half</th>\n",
       "      <th>following</th>\n",
       "      <th>immediate_f</th>\n",
       "      <th>review</th>\n",
       "      <th>Student id</th>\n",
       "      <th>Class</th>\n",
       "      <th>Subject</th>\n",
       "    </tr>\n",
       "  </thead>\n",
       "  <tbody>\n",
       "    <tr>\n",
       "      <th>0</th>\n",
       "      <td>11218439@st.neu.edu.vn.L71ar</td>\n",
       "      <td>1.000000</td>\n",
       "      <td>1.000000</td>\n",
       "      <td>1.000000</td>\n",
       "      <td>1.0</td>\n",
       "      <td>0.519011</td>\n",
       "      <td>0.482784</td>\n",
       "      <td>53</td>\n",
       "      <td>11218439</td>\n",
       "      <td>L71ar</td>\n",
       "      <td>DesWeb</td>\n",
       "    </tr>\n",
       "    <tr>\n",
       "      <th>1</th>\n",
       "      <td>11200006@st.neu.edu.vn.L71ar</td>\n",
       "      <td>1.000000</td>\n",
       "      <td>1.000000</td>\n",
       "      <td>1.000000</td>\n",
       "      <td>1.0</td>\n",
       "      <td>0.282074</td>\n",
       "      <td>0.209524</td>\n",
       "      <td>4823</td>\n",
       "      <td>11200006</td>\n",
       "      <td>L71ar</td>\n",
       "      <td>DesWeb</td>\n",
       "    </tr>\n",
       "    <tr>\n",
       "      <th>2</th>\n",
       "      <td>11207605@st.neu.edu.vn.L71ar</td>\n",
       "      <td>0.714286</td>\n",
       "      <td>0.428571</td>\n",
       "      <td>0.333333</td>\n",
       "      <td>0.0</td>\n",
       "      <td>0.165560</td>\n",
       "      <td>0.066667</td>\n",
       "      <td>16</td>\n",
       "      <td>11207605</td>\n",
       "      <td>L71ar</td>\n",
       "      <td>DesWeb</td>\n",
       "    </tr>\n",
       "    <tr>\n",
       "      <th>3</th>\n",
       "      <td>11218442@st.neu.edu.vn.L71ar</td>\n",
       "      <td>0.857143</td>\n",
       "      <td>0.714286</td>\n",
       "      <td>0.333333</td>\n",
       "      <td>1.0</td>\n",
       "      <td>0.064218</td>\n",
       "      <td>0.058608</td>\n",
       "      <td>0</td>\n",
       "      <td>11218442</td>\n",
       "      <td>L71ar</td>\n",
       "      <td>DesWeb</td>\n",
       "    </tr>\n",
       "    <tr>\n",
       "      <th>4</th>\n",
       "      <td>11211178@st.neu.edu.vn.L71ar</td>\n",
       "      <td>0.000000</td>\n",
       "      <td>1.000000</td>\n",
       "      <td>1.000000</td>\n",
       "      <td>1.0</td>\n",
       "      <td>0.000000</td>\n",
       "      <td>0.000000</td>\n",
       "      <td>0</td>\n",
       "      <td>11211178</td>\n",
       "      <td>L71ar</td>\n",
       "      <td>DesWeb</td>\n",
       "    </tr>\n",
       "    <tr>\n",
       "      <th>...</th>\n",
       "      <td>...</td>\n",
       "      <td>...</td>\n",
       "      <td>...</td>\n",
       "      <td>...</td>\n",
       "      <td>...</td>\n",
       "      <td>...</td>\n",
       "      <td>...</td>\n",
       "      <td>...</td>\n",
       "      <td>...</td>\n",
       "      <td>...</td>\n",
       "      <td>...</td>\n",
       "    </tr>\n",
       "    <tr>\n",
       "      <th>207</th>\n",
       "      <td>11218435@st.neu.edu.vn.Yorao</td>\n",
       "      <td>0.800000</td>\n",
       "      <td>0.800000</td>\n",
       "      <td>1.000000</td>\n",
       "      <td>0.2</td>\n",
       "      <td>0.473855</td>\n",
       "      <td>0.497031</td>\n",
       "      <td>8771</td>\n",
       "      <td>11218435</td>\n",
       "      <td>Yorao</td>\n",
       "      <td>Java</td>\n",
       "    </tr>\n",
       "    <tr>\n",
       "      <th>208</th>\n",
       "      <td>11218437@st.neu.edu.vn.Yorao</td>\n",
       "      <td>0.600000</td>\n",
       "      <td>0.400000</td>\n",
       "      <td>0.200000</td>\n",
       "      <td>0.6</td>\n",
       "      <td>0.145689</td>\n",
       "      <td>0.166094</td>\n",
       "      <td>24715</td>\n",
       "      <td>11218437</td>\n",
       "      <td>Yorao</td>\n",
       "      <td>Java</td>\n",
       "    </tr>\n",
       "    <tr>\n",
       "      <th>209</th>\n",
       "      <td>11218438@st.neu.edu.vn.Yorao</td>\n",
       "      <td>0.600000</td>\n",
       "      <td>0.600000</td>\n",
       "      <td>0.600000</td>\n",
       "      <td>0.6</td>\n",
       "      <td>0.079222</td>\n",
       "      <td>0.025893</td>\n",
       "      <td>6996</td>\n",
       "      <td>11218438</td>\n",
       "      <td>Yorao</td>\n",
       "      <td>Java</td>\n",
       "    </tr>\n",
       "    <tr>\n",
       "      <th>210</th>\n",
       "      <td>nerdyjeb@gmail.com.Yorao</td>\n",
       "      <td>0.300000</td>\n",
       "      <td>0.400000</td>\n",
       "      <td>0.200000</td>\n",
       "      <td>0.6</td>\n",
       "      <td>0.097483</td>\n",
       "      <td>0.078125</td>\n",
       "      <td>4492</td>\n",
       "      <td>1000</td>\n",
       "      <td>Yorao</td>\n",
       "      <td>Java</td>\n",
       "    </tr>\n",
       "    <tr>\n",
       "      <th>211</th>\n",
       "      <td>phambinhanctb@gmail.com.Yorao</td>\n",
       "      <td>0.200000</td>\n",
       "      <td>0.600000</td>\n",
       "      <td>0.600000</td>\n",
       "      <td>0.6</td>\n",
       "      <td>0.020009</td>\n",
       "      <td>0.000000</td>\n",
       "      <td>8226</td>\n",
       "      <td>1000</td>\n",
       "      <td>Yorao</td>\n",
       "      <td>Java</td>\n",
       "    </tr>\n",
       "  </tbody>\n",
       "</table>\n",
       "<p>212 rows × 11 columns</p>\n",
       "</div>"
      ],
      "text/plain": [
       "                           s-email  % participate  consistency  c_in_f_half  \\\n",
       "0     11218439@st.neu.edu.vn.L71ar       1.000000     1.000000     1.000000   \n",
       "1     11200006@st.neu.edu.vn.L71ar       1.000000     1.000000     1.000000   \n",
       "2     11207605@st.neu.edu.vn.L71ar       0.714286     0.428571     0.333333   \n",
       "3     11218442@st.neu.edu.vn.L71ar       0.857143     0.714286     0.333333   \n",
       "4     11211178@st.neu.edu.vn.L71ar       0.000000     1.000000     1.000000   \n",
       "..                             ...            ...          ...          ...   \n",
       "207   11218435@st.neu.edu.vn.Yorao       0.800000     0.800000     1.000000   \n",
       "208   11218437@st.neu.edu.vn.Yorao       0.600000     0.400000     0.200000   \n",
       "209   11218438@st.neu.edu.vn.Yorao       0.600000     0.600000     0.600000   \n",
       "210       nerdyjeb@gmail.com.Yorao       0.300000     0.400000     0.200000   \n",
       "211  phambinhanctb@gmail.com.Yorao       0.200000     0.600000     0.600000   \n",
       "\n",
       "     c_in_s_half  following  immediate_f  review  Student id  Class Subject  \n",
       "0            1.0   0.519011     0.482784      53    11218439  L71ar  DesWeb  \n",
       "1            1.0   0.282074     0.209524    4823    11200006  L71ar  DesWeb  \n",
       "2            0.0   0.165560     0.066667      16    11207605  L71ar  DesWeb  \n",
       "3            1.0   0.064218     0.058608       0    11218442  L71ar  DesWeb  \n",
       "4            1.0   0.000000     0.000000       0    11211178  L71ar  DesWeb  \n",
       "..           ...        ...          ...     ...         ...    ...     ...  \n",
       "207          0.2   0.473855     0.497031    8771    11218435  Yorao    Java  \n",
       "208          0.6   0.145689     0.166094   24715    11218437  Yorao    Java  \n",
       "209          0.6   0.079222     0.025893    6996    11218438  Yorao    Java  \n",
       "210          0.6   0.097483     0.078125    4492        1000  Yorao    Java  \n",
       "211          0.6   0.020009     0.000000    8226        1000  Yorao    Java  \n",
       "\n",
       "[212 rows x 11 columns]"
      ]
     },
     "execution_count": 23,
     "metadata": {},
     "output_type": "execute_result"
    }
   ],
   "source": [
    "def to_id(s:str) ->str:\n",
    "    regex = r\"^[a-zA-Z0-9_.+-]+@\"    \n",
    "    email_address = s\n",
    "    first_part = re.match(regex, email_address).group()\n",
    "    student_id= first_part[:-1]\n",
    "    return student_id\n",
    "\n",
    "col=['s-email','% participate','consistency','c_in_f_half','c_in_s_half','following','immediate_f','review']\n",
    "df=pd.DataFrame(refined,columns=col)\n",
    "df[\"Student id\"]=[int(to_id(x)) if to_id(x).isdigit() else 1000 for x in df['s-email'] ]\n",
    "df[\"Class\"]=[x[-5:] for x in df['s-email']]\n",
    "rvs=dict()\n",
    "for sub in subject:\n",
    "    for clss in subject[sub]:\n",
    "        rvs[clss]=sub \n",
    "df[\"Subject\"]=[rvs[x] for x in df[\"Class\"]]\n",
    "df.head()"
   ]
  },
  {
   "cell_type": "markdown",
   "metadata": {},
   "source": [
    "### Some plots that might be cool"
   ]
  },
  {
   "cell_type": "code",
   "execution_count": null,
   "metadata": {},
   "outputs": [
    {
     "data": {
      "image/png": "[encoded data removed]",
      "text/plain": [
       "<Figure size 640x480 with 1 Axes>"
      ]
     },
     "metadata": {},
     "output_type": "display_data"
    }
   ],
   "source": [
    "plt.hist(df['following'])\n",
    "plt.xlabel(\"Follow up ratio\")\n",
    "plt.ylabel(\"Frequency\")\n",
    "plt.show()"
   ]
  },
  {
   "cell_type": "markdown",
   "metadata": {},
   "source": [
    "It can be seen from the chart that most students have the total amount of time following the teachers are less than 50%.\\\n",
    "It can somehow be explained that they might choose to follow the teachers' slideshow in the class rather than their own slides in their laptops. That reason can also be explained the low ratio of \"immediate following up\"."
   ]
  },
  {
   "cell_type": "code",
   "execution_count": null,
   "metadata": {},
   "outputs": [
    {
     "data": {
      "image/png": "[encoded data removed]",
      "text/plain": [
       "<Figure size 640x480 with 1 Axes>"
      ]
     },
     "metadata": {},
     "output_type": "display_data"
    }
   ],
   "source": [
    "plt.hist(df['immediate_f'])\n",
    "plt.xlabel(\"Immediate follow up ratio\")\n",
    "plt.ylabel(\"Frequency\")\n",
    "plt.show()"
   ]
  },
  {
   "cell_type": "code",
   "execution_count": null,
   "metadata": {},
   "outputs": [
    {
     "data": {
      "image/png": "[encoded data removed]",
      "text/plain": [
       "<Figure size 640x480 with 1 Axes>"
      ]
     },
     "metadata": {},
     "output_type": "display_data"
    }
   ],
   "source": [
    "plt.hist(df['% participate'])\n",
    "plt.xlabel(\"Participation\")\n",
    "plt.ylabel(\"Frequency\")\n",
    "plt.show()"
   ]
  },
  {
   "cell_type": "code",
   "execution_count": null,
   "metadata": {},
   "outputs": [],
   "source": [
    "# Specify the path to the CSV file\n",
    "# Old Average attentions are wrong\n",
    "# csv_fileyorao = \"Java_63KHMT.csv\"\n",
    "# csv_filexbomt = \"CNWeb.csv\"\n",
    "# csv_fileromws = \"TKWeb.csv\"\n",
    "# csv_filel71ar = \"TKWeb1.csv\"\n",
    "# # Read the CSV file into a Pandas DataFrame\n",
    "# df_cnw = pd.read_csv(csv_filexbomt, sep=\",\",encoding=\"utf-8\")[[\"Student id\",\"Attendance\",\"Average\",\"Compulsory\"]]\n",
    "# df_java = pd.read_csv(csv_fileyorao, sep=\",\",encoding=\"utf-8\")[[\"Student id\",\"Attendance\",\"Average\",\"Compulsory\"]]\n",
    "# df_tkw1 = pd.read_csv(csv_fileromws, sep=\",\",encoding=\"utf-8\")[[\"Student id\",\"Attendance\",\"Average\",\"Compulsory\"]]\n",
    "# df_tkw2 = pd.read_csv(csv_filel71ar, sep=\",\",encoding=\"utf-8\")[[\"Student id\",\"Attendance\",\"Average\",\"Compulsory\"]]\n",
    "# # Print the DataFrame\n",
    "# df_java[\"Subject\"]=\"Java\"\n",
    "# df_tkw2[\"Subject\"]=\"DesWeb\"\n",
    "# df_cnw[\"Subject\"]=\"PrmWeb\"\n",
    "# df_tkw1[\"Subject\"]=\"DesWeb\"\n",
    "# frames=[df_java,df_tkw2,df_cnw,df_tkw1]\n",
    "# all_data_score = pd.concat(frames)\n",
    "# # all_data_score.isna().sum()\n",
    "# all_data_score.to_csv(\"all_students_grade.csv\")"
   ]
  },
  {
   "cell_type": "markdown",
   "metadata": {},
   "source": [
    "## 2 Evaluating the dataset"
   ]
  },
  {
   "cell_type": "markdown",
   "metadata": {},
   "source": [
    "Get some basic information of the dataset"
   ]
  },
  {
   "cell_type": "code",
   "execution_count": null,
   "metadata": {},
   "outputs": [
    {
     "data": {
      "text/html": [
       "<div>\n",
       "<style scoped>\n",
       "    .dataframe tbody tr th:only-of-type {\n",
       "        vertical-align: middle;\n",
       "    }\n",
       "\n",
       "    .dataframe tbody tr th {\n",
       "        vertical-align: top;\n",
       "    }\n",
       "\n",
       "    .dataframe thead th {\n",
       "        text-align: right;\n",
       "    }\n",
       "</style>\n",
       "<table border=\"1\" class=\"dataframe\">\n",
       "  <thead>\n",
       "    <tr style=\"text-align: right;\">\n",
       "      <th></th>\n",
       "      <th>% participate</th>\n",
       "      <th>consistency</th>\n",
       "      <th>following</th>\n",
       "      <th>immediate_f</th>\n",
       "      <th>review</th>\n",
       "      <th>Compulsory</th>\n",
       "      <th>Attendance</th>\n",
       "      <th>Average</th>\n",
       "    </tr>\n",
       "    <tr>\n",
       "      <th>Class</th>\n",
       "      <th></th>\n",
       "      <th></th>\n",
       "      <th></th>\n",
       "      <th></th>\n",
       "      <th></th>\n",
       "      <th></th>\n",
       "      <th></th>\n",
       "      <th></th>\n",
       "    </tr>\n",
       "  </thead>\n",
       "  <tbody>\n",
       "    <tr>\n",
       "      <th>L71ar</th>\n",
       "      <td>0.771429</td>\n",
       "      <td>0.702857</td>\n",
       "      <td>0.257541</td>\n",
       "      <td>0.240473</td>\n",
       "      <td>2394.200000</td>\n",
       "      <td>0.500000</td>\n",
       "      <td>7.820000</td>\n",
       "      <td>7.621000</td>\n",
       "    </tr>\n",
       "    <tr>\n",
       "      <th>ROmwS</th>\n",
       "      <td>0.736207</td>\n",
       "      <td>0.731034</td>\n",
       "      <td>0.178275</td>\n",
       "      <td>0.168475</td>\n",
       "      <td>6427.862069</td>\n",
       "      <td>0.974138</td>\n",
       "      <td>8.689655</td>\n",
       "      <td>8.045690</td>\n",
       "    </tr>\n",
       "    <tr>\n",
       "      <th>X0bMT</th>\n",
       "      <td>0.870130</td>\n",
       "      <td>0.844156</td>\n",
       "      <td>0.242525</td>\n",
       "      <td>0.282410</td>\n",
       "      <td>2273.575758</td>\n",
       "      <td>0.484848</td>\n",
       "      <td>9.090909</td>\n",
       "      <td>7.695455</td>\n",
       "    </tr>\n",
       "    <tr>\n",
       "      <th>Yorao</th>\n",
       "      <td>0.736207</td>\n",
       "      <td>0.651724</td>\n",
       "      <td>0.196729</td>\n",
       "      <td>0.182842</td>\n",
       "      <td>26324.086207</td>\n",
       "      <td>0.965517</td>\n",
       "      <td>8.586207</td>\n",
       "      <td>7.735345</td>\n",
       "    </tr>\n",
       "  </tbody>\n",
       "</table>\n",
       "</div>"
      ],
      "text/plain": [
       "       % participate  consistency  following  immediate_f        review  \\\n",
       "Class                                                                     \n",
       "L71ar       0.771429     0.702857   0.257541     0.240473   2394.200000   \n",
       "ROmwS       0.736207     0.731034   0.178275     0.168475   6427.862069   \n",
       "X0bMT       0.870130     0.844156   0.242525     0.282410   2273.575758   \n",
       "Yorao       0.736207     0.651724   0.196729     0.182842  26324.086207   \n",
       "\n",
       "       Compulsory  Attendance   Average  \n",
       "Class                                    \n",
       "L71ar    0.500000    7.820000  7.621000  \n",
       "ROmwS    0.974138    8.689655  8.045690  \n",
       "X0bMT    0.484848    9.090909  7.695455  \n",
       "Yorao    0.965517    8.586207  7.735345  "
      ]
     },
     "execution_count": 28,
     "metadata": {},
     "output_type": "execute_result"
    }
   ],
   "source": [
    "all_data_score = pd.read_csv(\"data/all_students_grade.csv\")\n",
    "result = pd.merge(df, all_data_score,how=\"left\", on=[\"Student id\", \"Subject\"]).dropna()\n",
    "result.groupby([\"Class\"])[[\"% participate\",\"consistency\",\"following\",\"immediate_f\",\"review\",\"Compulsory\",\"Attendance\",\"Average\"]].mean()"
   ]
  },
  {
   "cell_type": "markdown",
   "metadata": {},
   "source": [
    "It seem that the class \"L71ar\" have a sigificant lower Attendance and Average score. For a fair comparison, each student in class \"L71ar\" will earn min(current point+1,10) which incearse the mean Attendance score to 0.5 ->1 point and Average to around 0.1 point"
   ]
  },
  {
   "cell_type": "code",
   "execution_count": null,
   "metadata": {},
   "outputs": [
    {
     "data": {
      "text/html": [
       "<div>\n",
       "<style scoped>\n",
       "    .dataframe tbody tr th:only-of-type {\n",
       "        vertical-align: middle;\n",
       "    }\n",
       "\n",
       "    .dataframe tbody tr th {\n",
       "        vertical-align: top;\n",
       "    }\n",
       "\n",
       "    .dataframe thead th {\n",
       "        text-align: right;\n",
       "    }\n",
       "</style>\n",
       "<table border=\"1\" class=\"dataframe\">\n",
       "  <thead>\n",
       "    <tr style=\"text-align: right;\">\n",
       "      <th></th>\n",
       "      <th>% participate</th>\n",
       "      <th>consistency</th>\n",
       "      <th>following</th>\n",
       "      <th>immediate_f</th>\n",
       "      <th>review</th>\n",
       "      <th>Compulsory</th>\n",
       "      <th>Attendance</th>\n",
       "      <th>Average</th>\n",
       "    </tr>\n",
       "    <tr>\n",
       "      <th>Class</th>\n",
       "      <th></th>\n",
       "      <th></th>\n",
       "      <th></th>\n",
       "      <th></th>\n",
       "      <th></th>\n",
       "      <th></th>\n",
       "      <th></th>\n",
       "      <th></th>\n",
       "    </tr>\n",
       "  </thead>\n",
       "  <tbody>\n",
       "    <tr>\n",
       "      <th>L71ar</th>\n",
       "      <td>0.771429</td>\n",
       "      <td>0.702857</td>\n",
       "      <td>0.257541</td>\n",
       "      <td>0.240473</td>\n",
       "      <td>2394.200000</td>\n",
       "      <td>0.500000</td>\n",
       "      <td>8.660000</td>\n",
       "      <td>7.705000</td>\n",
       "    </tr>\n",
       "    <tr>\n",
       "      <th>ROmwS</th>\n",
       "      <td>0.736207</td>\n",
       "      <td>0.731034</td>\n",
       "      <td>0.178275</td>\n",
       "      <td>0.168475</td>\n",
       "      <td>6427.862069</td>\n",
       "      <td>0.974138</td>\n",
       "      <td>8.689655</td>\n",
       "      <td>8.045690</td>\n",
       "    </tr>\n",
       "    <tr>\n",
       "      <th>X0bMT</th>\n",
       "      <td>0.870130</td>\n",
       "      <td>0.844156</td>\n",
       "      <td>0.242525</td>\n",
       "      <td>0.282410</td>\n",
       "      <td>2273.575758</td>\n",
       "      <td>0.484848</td>\n",
       "      <td>9.090909</td>\n",
       "      <td>7.695455</td>\n",
       "    </tr>\n",
       "    <tr>\n",
       "      <th>Yorao</th>\n",
       "      <td>0.736207</td>\n",
       "      <td>0.651724</td>\n",
       "      <td>0.196729</td>\n",
       "      <td>0.182842</td>\n",
       "      <td>26324.086207</td>\n",
       "      <td>0.965517</td>\n",
       "      <td>8.586207</td>\n",
       "      <td>7.735345</td>\n",
       "    </tr>\n",
       "  </tbody>\n",
       "</table>\n",
       "</div>"
      ],
      "text/plain": [
       "       % participate  consistency  following  immediate_f        review  \\\n",
       "Class                                                                     \n",
       "L71ar       0.771429     0.702857   0.257541     0.240473   2394.200000   \n",
       "ROmwS       0.736207     0.731034   0.178275     0.168475   6427.862069   \n",
       "X0bMT       0.870130     0.844156   0.242525     0.282410   2273.575758   \n",
       "Yorao       0.736207     0.651724   0.196729     0.182842  26324.086207   \n",
       "\n",
       "       Compulsory  Attendance   Average  \n",
       "Class                                    \n",
       "L71ar    0.500000    8.660000  7.705000  \n",
       "ROmwS    0.974138    8.689655  8.045690  \n",
       "X0bMT    0.484848    9.090909  7.695455  \n",
       "Yorao    0.965517    8.586207  7.735345  "
      ]
     },
     "execution_count": 29,
     "metadata": {},
     "output_type": "execute_result"
    }
   ],
   "source": [
    "result[\"Average\"]=np.where((result[\"Attendance\"]<10) & (result[\"Class\"]==\"L71ar\"),result[\"Average\"]+0.1,result[\"Average\"])\n",
    "result[\"Attendance\"]=np.where((result[\"Attendance\"]<10) & (result[\"Class\"]==\"L71ar\"),result[\"Attendance\"]+1,result[\"Attendance\"])\n",
    "result.groupby([\"Class\"])[[\"% participate\",\"consistency\",\"following\",\"immediate_f\",\"review\",\"Compulsory\",\"Attendance\",\"Average\"]].mean()"
   ]
  },
  {
   "cell_type": "code",
   "execution_count": null,
   "metadata": {},
   "outputs": [
    {
     "data": {
      "image/png": "[encoded data removed]",
      "text/plain": [
       "<Figure size 640x480 with 1 Axes>"
      ]
     },
     "metadata": {},
     "output_type": "display_data"
    },
    {
     "name": "stdout",
     "output_type": "stream",
     "text": [
      "Pink  : GPA based on % participation\n",
      "Green : GPA based on the consistency of student\n",
      "Blue  : GPA based on the consistency of student in the first half of the semester\n",
      "Yellow: GPA based on the consistency of student in the second half of the semester\n"
     ]
    }
   ],
   "source": [
    "plt.scatter(result[\"Average\"],result[\"% participate\"],color = 'hotpink')\n",
    "plt.scatter(result[\"Average\"],result[\"consistency\"],color = '#88c999')\n",
    "plt.scatter(result[\"Average\"],result[\"c_in_f_half\"],color = 'blue')\n",
    "plt.scatter(result[\"Average\"],result[\"c_in_s_half\"],color = 'yellow')\n",
    "# plt.scatter(result[\"Average\"],result[\"% p in half_s\"])\n",
    "plt.ylabel('Participation rate') \n",
    "plt.xlabel('GPA')\n",
    "plt.title(\"GPA followed by Participation rate\")\n",
    "plt.show()\n",
    "print(\"Pink  : GPA based on % participation\")\n",
    "print(\"Green : GPA based on the consistency of student\")\n",
    "print(\"Blue  : GPA based on the consistency of student in the first half of the semester\")\n",
    "print(\"Yellow: GPA based on the consistency of student in the second half of the semester\")\n",
    "\n",
    "#look gross :<<"
   ]
  },
  {
   "cell_type": "markdown",
   "metadata": {},
   "source": [
    "The group of student with high consistences and participant rate tent to get better gpa.\n",
    "\n",
    "Student lack less focus in the second half of the semester in comparision with the first half."
   ]
  },
  {
   "cell_type": "markdown",
   "metadata": {},
   "source": [
    "### More analysis will come up later"
   ]
  },
  {
   "cell_type": "markdown",
   "metadata": {},
   "source": [
    "## Modeling\n",
    "We will not going too deep on building the model. Still having a great model that can be applied into the website could be a great deal for either teachers and students"
   ]
  },
  {
   "cell_type": "markdown",
   "metadata": {},
   "source": [
    "### 1. Given the students behaviours, predict the students Attendance Score\n",
    "1. Using softmax (accuracy =67.5%)\n",
    "2. Using linear regression (MSE = 0.61)"
   ]
  },
  {
   "cell_type": "code",
   "execution_count": null,
   "metadata": {},
   "outputs": [],
   "source": [
    "\n",
    "from sklearn.linear_model import LogisticRegression\n",
    "from sklearn.linear_model import LinearRegression\n",
    "from sklearn.model_selection import train_test_split\n",
    "from sklearn.preprocessing import LabelEncoder\n",
    "from sklearn.metrics import classification_report,confusion_matrix\n",
    "from sklearn.model_selection import GridSearchCV"
   ]
  },
  {
   "attachments": {},
   "cell_type": "markdown",
   "metadata": {},
   "source": [
    "For Logistic Regression, it is better to reduce the requirement for the output to only predict where the student is good (=10), above average (>=8), average (>=6) and below average(>=4) \\\n",
    "Disclaim: It is unethincal to grade the student's attendance score below 4"
   ]
  },
  {
   "cell_type": "markdown",
   "metadata": {},
   "source": [
    "### Softmax Regression"
   ]
  },
  {
   "cell_type": "code",
   "execution_count": null,
   "metadata": {},
   "outputs": [],
   "source": [
    "X=result[[\"% participate\",\"consistency\",\"following\",\"immediate_f\",\"review\",\"Compulsory\"]]\n",
    "y=result[\"Attendance\"].astype(\"int32\")\n",
    "X_train, X_test, y_train, y_test = train_test_split( X, y, test_size=0.2, random_state=4)\n",
    "#try LR better option\n",
    "y_train2=(y_train//2)*2\n",
    "y_test2=(y_test//2)*2\n",
    "# le = LabelEncoder()\n",
    "# y_train = le.fit_transform(y_train)\n",
    "# X_train, X_val, y_train, y_val = train_test_split( X_train, y_train, test_size=0.1, random_state=4)"
   ]
  },
  {
   "cell_type": "code",
   "execution_count": null,
   "metadata": {},
   "outputs": [
    {
     "name": "stderr",
     "output_type": "stream",
     "text": [
      "c:\\Users\\Admin\\AppData\\Local\\Programs\\Python\\Python310\\lib\\site-packages\\sklearn\\model_selection\\_split.py:700: UserWarning: The least populated class in y has only 3 members, which is less than n_splits=5.\n",
      "  warnings.warn(\n"
     ]
    },
    {
     "data": {
      "text/html": [
       "<style>#sk-container-id-1 {color: black;background-color: white;}#sk-container-id-1 pre{padding: 0;}#sk-container-id-1 div.sk-toggleable {background-color: white;}#sk-container-id-1 label.sk-toggleable__label {cursor: pointer;display: block;width: 100%;margin-bottom: 0;padding: 0.3em;box-sizing: border-box;text-align: center;}#sk-container-id-1 label.sk-toggleable__label-arrow:before {content: \"▸\";float: left;margin-right: 0.25em;color: #696969;}#sk-container-id-1 label.sk-toggleable__label-arrow:hover:before {color: black;}#sk-container-id-1 div.sk-estimator:hover label.sk-toggleable__label-arrow:before {color: black;}#sk-container-id-1 div.sk-toggleable__content {max-height: 0;max-width: 0;overflow: hidden;text-align: left;background-color: #f0f8ff;}#sk-container-id-1 div.sk-toggleable__content pre {margin: 0.2em;color: black;border-radius: 0.25em;background-color: #f0f8ff;}#sk-container-id-1 input.sk-toggleable__control:checked~div.sk-toggleable__content {max-height: 200px;max-width: 100%;overflow: auto;}#sk-container-id-1 input.sk-toggleable__control:checked~label.sk-toggleable__label-arrow:before {content: \"▾\";}#sk-container-id-1 div.sk-estimator input.sk-toggleable__control:checked~label.sk-toggleable__label {background-color: #d4ebff;}#sk-container-id-1 div.sk-label input.sk-toggleable__control:checked~label.sk-toggleable__label {background-color: #d4ebff;}#sk-container-id-1 input.sk-hidden--visually {border: 0;clip: rect(1px 1px 1px 1px);clip: rect(1px, 1px, 1px, 1px);height: 1px;margin: -1px;overflow: hidden;padding: 0;position: absolute;width: 1px;}#sk-container-id-1 div.sk-estimator {font-family: monospace;background-color: #f0f8ff;border: 1px dotted black;border-radius: 0.25em;box-sizing: border-box;margin-bottom: 0.5em;}#sk-container-id-1 div.sk-estimator:hover {background-color: #d4ebff;}#sk-container-id-1 div.sk-parallel-item::after {content: \"\";width: 100%;border-bottom: 1px solid gray;flex-grow: 1;}#sk-container-id-1 div.sk-label:hover label.sk-toggleable__label {background-color: #d4ebff;}#sk-container-id-1 div.sk-serial::before {content: \"\";position: absolute;border-left: 1px solid gray;box-sizing: border-box;top: 0;bottom: 0;left: 50%;z-index: 0;}#sk-container-id-1 div.sk-serial {display: flex;flex-direction: column;align-items: center;background-color: white;padding-right: 0.2em;padding-left: 0.2em;position: relative;}#sk-container-id-1 div.sk-item {position: relative;z-index: 1;}#sk-container-id-1 div.sk-parallel {display: flex;align-items: stretch;justify-content: center;background-color: white;position: relative;}#sk-container-id-1 div.sk-item::before, #sk-container-id-1 div.sk-parallel-item::before {content: \"\";position: absolute;border-left: 1px solid gray;box-sizing: border-box;top: 0;bottom: 0;left: 50%;z-index: -1;}#sk-container-id-1 div.sk-parallel-item {display: flex;flex-direction: column;z-index: 1;position: relative;background-color: white;}#sk-container-id-1 div.sk-parallel-item:first-child::after {align-self: flex-end;width: 50%;}#sk-container-id-1 div.sk-parallel-item:last-child::after {align-self: flex-start;width: 50%;}#sk-container-id-1 div.sk-parallel-item:only-child::after {width: 0;}#sk-container-id-1 div.sk-dashed-wrapped {border: 1px dashed gray;margin: 0 0.4em 0.5em 0.4em;box-sizing: border-box;padding-bottom: 0.4em;background-color: white;}#sk-container-id-1 div.sk-label label {font-family: monospace;font-weight: bold;display: inline-block;line-height: 1.2em;}#sk-container-id-1 div.sk-label-container {text-align: center;}#sk-container-id-1 div.sk-container {/* jupyter's `normalize.less` sets `[hidden] { display: none; }` but bootstrap.min.css set `[hidden] { display: none !important; }` so we also need the `!important` here to be able to override the default hidden behavior on the sphinx rendered scikit-learn.org. See: https://github.com/scikit-learn/scikit-learn/issues/21755 */display: inline-block !important;position: relative;}#sk-container-id-1 div.sk-text-repr-fallback {display: none;}</style><div id=\"sk-container-id-1\" class=\"sk-top-container\"><div class=\"sk-text-repr-fallback\"><pre>GridSearchCV(estimator=LogisticRegression(class_weight=&#x27;balanced&#x27;,\n",
       "                                          random_state=10),\n",
       "             param_grid={&#x27;C&#x27;: [2, 1.5, 1, 0.5, 0.1, 0.01, 0.001, 0.0001],\n",
       "                         &#x27;solver&#x27;: [&#x27;liblinear&#x27;, &#x27;lbfgs&#x27;],\n",
       "                         &#x27;tol&#x27;: [0.0001, 1e-05, 1e-07]})</pre><b>In a Jupyter environment, please rerun this cell to show the HTML representation or trust the notebook. <br />On GitHub, the HTML representation is unable to render, please try loading this page with nbviewer.org.</b></div><div class=\"sk-container\" hidden><div class=\"sk-item sk-dashed-wrapped\"><div class=\"sk-label-container\"><div class=\"sk-label sk-toggleable\"><input class=\"sk-toggleable__control sk-hidden--visually\" id=\"sk-estimator-id-1\" type=\"checkbox\" ><label for=\"sk-estimator-id-1\" class=\"sk-toggleable__label sk-toggleable__label-arrow\">GridSearchCV</label><div class=\"sk-toggleable__content\"><pre>GridSearchCV(estimator=LogisticRegression(class_weight=&#x27;balanced&#x27;,\n",
       "                                          random_state=10),\n",
       "             param_grid={&#x27;C&#x27;: [2, 1.5, 1, 0.5, 0.1, 0.01, 0.001, 0.0001],\n",
       "                         &#x27;solver&#x27;: [&#x27;liblinear&#x27;, &#x27;lbfgs&#x27;],\n",
       "                         &#x27;tol&#x27;: [0.0001, 1e-05, 1e-07]})</pre></div></div></div><div class=\"sk-parallel\"><div class=\"sk-parallel-item\"><div class=\"sk-item\"><div class=\"sk-label-container\"><div class=\"sk-label sk-toggleable\"><input class=\"sk-toggleable__control sk-hidden--visually\" id=\"sk-estimator-id-2\" type=\"checkbox\" ><label for=\"sk-estimator-id-2\" class=\"sk-toggleable__label sk-toggleable__label-arrow\">estimator: LogisticRegression</label><div class=\"sk-toggleable__content\"><pre>LogisticRegression(class_weight=&#x27;balanced&#x27;, random_state=10)</pre></div></div></div><div class=\"sk-serial\"><div class=\"sk-item\"><div class=\"sk-estimator sk-toggleable\"><input class=\"sk-toggleable__control sk-hidden--visually\" id=\"sk-estimator-id-3\" type=\"checkbox\" ><label for=\"sk-estimator-id-3\" class=\"sk-toggleable__label sk-toggleable__label-arrow\">LogisticRegression</label><div class=\"sk-toggleable__content\"><pre>LogisticRegression(class_weight=&#x27;balanced&#x27;, random_state=10)</pre></div></div></div></div></div></div></div></div></div></div>"
      ],
      "text/plain": [
       "GridSearchCV(estimator=LogisticRegression(class_weight='balanced',\n",
       "                                          random_state=10),\n",
       "             param_grid={'C': [2, 1.5, 1, 0.5, 0.1, 0.01, 0.001, 0.0001],\n",
       "                         'solver': ['liblinear', 'lbfgs'],\n",
       "                         'tol': [0.0001, 1e-05, 1e-07]})"
      ]
     },
     "execution_count": 33,
     "metadata": {},
     "output_type": "execute_result"
    }
   ],
   "source": [
    "param_test={\n",
    "    'tol':[0.0001,0.00001,0.0000001],\n",
    "    'C':[2,1.5,1,0.5,0.1,0.01,0.001,0.0001],\n",
    "    'solver':['liblinear','lbfgs'],\n",
    "    \n",
    "}\n",
    "regr =GridSearchCV(estimator = LogisticRegression(class_weight=\"balanced\",random_state=10),\n",
    "                   param_grid=param_test\n",
    "                   )\n",
    "regr.fit(X_train,y_train2)"
   ]
  },
  {
   "cell_type": "code",
   "execution_count": null,
   "metadata": {},
   "outputs": [
    {
     "name": "stdout",
     "output_type": "stream",
     "text": [
      "1.3\n",
      "Test set Accuracy:  0.675\n"
     ]
    }
   ],
   "source": [
    "\n",
    "yhat=regr.predict(X_test)\n",
    "print(np.mean((yhat-y_test2)**2))\n",
    "# print(np.mean((regr.predict(X_train)-y_train)**2))\n",
    "from sklearn import metrics\n",
    "# print(\"Train set Accuracy: \", metrics.accuracy_score(y_train, regr.predict(X_train)))\n",
    "print(\"Test set Accuracy: \", metrics.accuracy_score(y_test2, yhat))"
   ]
  },
  {
   "cell_type": "code",
   "execution_count": null,
   "metadata": {},
   "outputs": [
    {
     "name": "stdout",
     "output_type": "stream",
     "text": [
      "Confusion matrix, without normalization\n",
      "[[19  3  0  0]\n",
      " [ 3  8  3  0]\n",
      " [ 0  2  0  1]\n",
      " [ 0  0  1  0]]\n"
     ]
    },
    {
     "data": {
      "image/png": "[encoded data removed]",
      "text/plain": [
       "<Figure size 640x480 with 2 Axes>"
      ]
     },
     "metadata": {},
     "output_type": "display_data"
    }
   ],
   "source": [
    "cnf_matrix = confusion_matrix(y_test2, yhat, labels=[10,8,6,4])\n",
    "import itertools\n",
    "def plot_confusion_matrix(cm, classes,\n",
    "                          normalize=False,\n",
    "                          title='Confusion matrix',\n",
    "                          cmap=plt.cm.Blues):\n",
    "\n",
    "    if normalize:\n",
    "        cm = cm.astype('float') / cm.sum(axis=1)[:, np.newaxis]\n",
    "        print(\"Normalized confusion matrix\")\n",
    "    else:\n",
    "        print('Confusion matrix, without normalization')\n",
    "\n",
    "    print(cm)\n",
    "    plt.imshow(cm, interpolation='nearest', cmap=cmap)\n",
    "    plt.title(title)\n",
    "    plt.colorbar()\n",
    "    tick_marks = np.arange(len(classes))\n",
    "    plt.xticks(tick_marks, classes, rotation=45)\n",
    "    plt.yticks(tick_marks, classes)\n",
    "    fmt = '.2f' if normalize else 'd'\n",
    "    thresh = cm.max() / 2.\n",
    "    for i, j in itertools.product(range(cm.shape[0]), range(cm.shape[1])):\n",
    "        plt.text(j, i, format(cm[i, j], fmt),\n",
    "                 horizontalalignment=\"center\",\n",
    "                 color=\"white\" if cm[i, j] > thresh else \"black\")\n",
    "\n",
    "    plt.tight_layout()\n",
    "    plt.ylabel('True label')\n",
    "    plt.xlabel('Predicted label')\n",
    "plt.figure()\n",
    "plot_confusion_matrix(cnf_matrix, classes=[x for x in range(10,3,-2)],normalize= False,  title='Confusion matrix')"
   ]
  },
  {
   "cell_type": "markdown",
   "metadata": {},
   "source": [
    "### Linear Regression"
   ]
  },
  {
   "cell_type": "code",
   "execution_count": null,
   "metadata": {},
   "outputs": [
    {
     "data": {
      "text/html": [
       "<style>#sk-container-id-2 {color: black;background-color: white;}#sk-container-id-2 pre{padding: 0;}#sk-container-id-2 div.sk-toggleable {background-color: white;}#sk-container-id-2 label.sk-toggleable__label {cursor: pointer;display: block;width: 100%;margin-bottom: 0;padding: 0.3em;box-sizing: border-box;text-align: center;}#sk-container-id-2 label.sk-toggleable__label-arrow:before {content: \"▸\";float: left;margin-right: 0.25em;color: #696969;}#sk-container-id-2 label.sk-toggleable__label-arrow:hover:before {color: black;}#sk-container-id-2 div.sk-estimator:hover label.sk-toggleable__label-arrow:before {color: black;}#sk-container-id-2 div.sk-toggleable__content {max-height: 0;max-width: 0;overflow: hidden;text-align: left;background-color: #f0f8ff;}#sk-container-id-2 div.sk-toggleable__content pre {margin: 0.2em;color: black;border-radius: 0.25em;background-color: #f0f8ff;}#sk-container-id-2 input.sk-toggleable__control:checked~div.sk-toggleable__content {max-height: 200px;max-width: 100%;overflow: auto;}#sk-container-id-2 input.sk-toggleable__control:checked~label.sk-toggleable__label-arrow:before {content: \"▾\";}#sk-container-id-2 div.sk-estimator input.sk-toggleable__control:checked~label.sk-toggleable__label {background-color: #d4ebff;}#sk-container-id-2 div.sk-label input.sk-toggleable__control:checked~label.sk-toggleable__label {background-color: #d4ebff;}#sk-container-id-2 input.sk-hidden--visually {border: 0;clip: rect(1px 1px 1px 1px);clip: rect(1px, 1px, 1px, 1px);height: 1px;margin: -1px;overflow: hidden;padding: 0;position: absolute;width: 1px;}#sk-container-id-2 div.sk-estimator {font-family: monospace;background-color: #f0f8ff;border: 1px dotted black;border-radius: 0.25em;box-sizing: border-box;margin-bottom: 0.5em;}#sk-container-id-2 div.sk-estimator:hover {background-color: #d4ebff;}#sk-container-id-2 div.sk-parallel-item::after {content: \"\";width: 100%;border-bottom: 1px solid gray;flex-grow: 1;}#sk-container-id-2 div.sk-label:hover label.sk-toggleable__label {background-color: #d4ebff;}#sk-container-id-2 div.sk-serial::before {content: \"\";position: absolute;border-left: 1px solid gray;box-sizing: border-box;top: 0;bottom: 0;left: 50%;z-index: 0;}#sk-container-id-2 div.sk-serial {display: flex;flex-direction: column;align-items: center;background-color: white;padding-right: 0.2em;padding-left: 0.2em;position: relative;}#sk-container-id-2 div.sk-item {position: relative;z-index: 1;}#sk-container-id-2 div.sk-parallel {display: flex;align-items: stretch;justify-content: center;background-color: white;position: relative;}#sk-container-id-2 div.sk-item::before, #sk-container-id-2 div.sk-parallel-item::before {content: \"\";position: absolute;border-left: 1px solid gray;box-sizing: border-box;top: 0;bottom: 0;left: 50%;z-index: -1;}#sk-container-id-2 div.sk-parallel-item {display: flex;flex-direction: column;z-index: 1;position: relative;background-color: white;}#sk-container-id-2 div.sk-parallel-item:first-child::after {align-self: flex-end;width: 50%;}#sk-container-id-2 div.sk-parallel-item:last-child::after {align-self: flex-start;width: 50%;}#sk-container-id-2 div.sk-parallel-item:only-child::after {width: 0;}#sk-container-id-2 div.sk-dashed-wrapped {border: 1px dashed gray;margin: 0 0.4em 0.5em 0.4em;box-sizing: border-box;padding-bottom: 0.4em;background-color: white;}#sk-container-id-2 div.sk-label label {font-family: monospace;font-weight: bold;display: inline-block;line-height: 1.2em;}#sk-container-id-2 div.sk-label-container {text-align: center;}#sk-container-id-2 div.sk-container {/* jupyter's `normalize.less` sets `[hidden] { display: none; }` but bootstrap.min.css set `[hidden] { display: none !important; }` so we also need the `!important` here to be able to override the default hidden behavior on the sphinx rendered scikit-learn.org. See: https://github.com/scikit-learn/scikit-learn/issues/21755 */display: inline-block !important;position: relative;}#sk-container-id-2 div.sk-text-repr-fallback {display: none;}</style><div id=\"sk-container-id-2\" class=\"sk-top-container\"><div class=\"sk-text-repr-fallback\"><pre>LinearRegression()</pre><b>In a Jupyter environment, please rerun this cell to show the HTML representation or trust the notebook. <br />On GitHub, the HTML representation is unable to render, please try loading this page with nbviewer.org.</b></div><div class=\"sk-container\" hidden><div class=\"sk-item\"><div class=\"sk-estimator sk-toggleable\"><input class=\"sk-toggleable__control sk-hidden--visually\" id=\"sk-estimator-id-4\" type=\"checkbox\" checked><label for=\"sk-estimator-id-4\" class=\"sk-toggleable__label sk-toggleable__label-arrow\">LinearRegression</label><div class=\"sk-toggleable__content\"><pre>LinearRegression()</pre></div></div></div></div></div>"
      ],
      "text/plain": [
       "LinearRegression()"
      ]
     },
     "execution_count": 36,
     "metadata": {},
     "output_type": "execute_result"
    }
   ],
   "source": [
    "regr = LinearRegression()\n",
    "regr.fit(X_train,y_train)"
   ]
  },
  {
   "cell_type": "code",
   "execution_count": null,
   "metadata": {},
   "outputs": [
    {
     "name": "stdout",
     "output_type": "stream",
     "text": [
      "MSE\n",
      "0.6192324667762458\n"
     ]
    }
   ],
   "source": [
    "yhat=regr.predict(X_test)\n",
    "print('MSE')\n",
    "print(np.mean((yhat-y_test)**2))\n",
    "#Can not find anyone better than u huhuhu"
   ]
  },
  {
   "cell_type": "code",
   "execution_count": null,
   "metadata": {},
   "outputs": [],
   "source": [
    "# import xgboost as xgb\n",
    "# XGBoost not perform well"
   ]
  },
  {
   "cell_type": "code",
   "execution_count": null,
   "metadata": {},
   "outputs": [],
   "source": [
    "# le = LabelEncoder()\n",
    "# y_train = le.fit_transform(y_train)\n",
    "# param_test = {\n",
    "#     'reg_alpha':[1e-5, 1e-2, 0.1, 100],\n",
    "#     'learning_rate':[0.01,0.1,0.2],\n",
    "#     'subsample':[i/10.0 for i in range(6,10)],\n",
    "\n",
    "#     'min_child_weight':[6,8,10,12]\n",
    "# }\n",
    "# gsearch = GridSearchCV(estimator =xgb.XGBClassifier(\n",
    "\n",
    "#                         missing=1,\n",
    "                        \n",
    "#                         max_depth=20,\\\n",
    "#                         eta=0.1,\\\n",
    "#                         min_child_weight=2,\n",
    "                        \n",
    "#                         gamma=0.1,\n",
    "#                         seed=35,\n",
    "#                         scoring='roc_auc'\n",
    "#                         ),param_grid=param_test,cv=2,verbose=10)\n",
    "# gsearch.fit(X_train,y_train)"
   ]
  },
  {
   "cell_type": "code",
   "execution_count": null,
   "metadata": {},
   "outputs": [],
   "source": [
    "# print(np.mean((gsearch.predict(X_test)-y_test)**2))"
   ]
  },
  {
   "cell_type": "markdown",
   "metadata": {},
   "source": [
    "## 2 Predict GPA given Attendance\n",
    "\n",
    "Either way the prediction is not as accurate as the previous tasks"
   ]
  },
  {
   "cell_type": "code",
   "execution_count": null,
   "metadata": {},
   "outputs": [],
   "source": [
    "X=result[[\"% participate\",\"consistency\",\"following\",\"immediate_f\",\"review\",\"Compulsory\",\"Attendance\"]]\n",
    "y=result[\"Average\"].astype(\"int32\")\n",
    "X_train, X_test, y_train, y_test = train_test_split( X, y, test_size=0.2, random_state=4)"
   ]
  },
  {
   "cell_type": "code",
   "execution_count": null,
   "metadata": {},
   "outputs": [
    {
     "data": {
      "text/html": [
       "<style>#sk-container-id-3 {color: black;background-color: white;}#sk-container-id-3 pre{padding: 0;}#sk-container-id-3 div.sk-toggleable {background-color: white;}#sk-container-id-3 label.sk-toggleable__label {cursor: pointer;display: block;width: 100%;margin-bottom: 0;padding: 0.3em;box-sizing: border-box;text-align: center;}#sk-container-id-3 label.sk-toggleable__label-arrow:before {content: \"▸\";float: left;margin-right: 0.25em;color: #696969;}#sk-container-id-3 label.sk-toggleable__label-arrow:hover:before {color: black;}#sk-container-id-3 div.sk-estimator:hover label.sk-toggleable__label-arrow:before {color: black;}#sk-container-id-3 div.sk-toggleable__content {max-height: 0;max-width: 0;overflow: hidden;text-align: left;background-color: #f0f8ff;}#sk-container-id-3 div.sk-toggleable__content pre {margin: 0.2em;color: black;border-radius: 0.25em;background-color: #f0f8ff;}#sk-container-id-3 input.sk-toggleable__control:checked~div.sk-toggleable__content {max-height: 200px;max-width: 100%;overflow: auto;}#sk-container-id-3 input.sk-toggleable__control:checked~label.sk-toggleable__label-arrow:before {content: \"▾\";}#sk-container-id-3 div.sk-estimator input.sk-toggleable__control:checked~label.sk-toggleable__label {background-color: #d4ebff;}#sk-container-id-3 div.sk-label input.sk-toggleable__control:checked~label.sk-toggleable__label {background-color: #d4ebff;}#sk-container-id-3 input.sk-hidden--visually {border: 0;clip: rect(1px 1px 1px 1px);clip: rect(1px, 1px, 1px, 1px);height: 1px;margin: -1px;overflow: hidden;padding: 0;position: absolute;width: 1px;}#sk-container-id-3 div.sk-estimator {font-family: monospace;background-color: #f0f8ff;border: 1px dotted black;border-radius: 0.25em;box-sizing: border-box;margin-bottom: 0.5em;}#sk-container-id-3 div.sk-estimator:hover {background-color: #d4ebff;}#sk-container-id-3 div.sk-parallel-item::after {content: \"\";width: 100%;border-bottom: 1px solid gray;flex-grow: 1;}#sk-container-id-3 div.sk-label:hover label.sk-toggleable__label {background-color: #d4ebff;}#sk-container-id-3 div.sk-serial::before {content: \"\";position: absolute;border-left: 1px solid gray;box-sizing: border-box;top: 0;bottom: 0;left: 50%;z-index: 0;}#sk-container-id-3 div.sk-serial {display: flex;flex-direction: column;align-items: center;background-color: white;padding-right: 0.2em;padding-left: 0.2em;position: relative;}#sk-container-id-3 div.sk-item {position: relative;z-index: 1;}#sk-container-id-3 div.sk-parallel {display: flex;align-items: stretch;justify-content: center;background-color: white;position: relative;}#sk-container-id-3 div.sk-item::before, #sk-container-id-3 div.sk-parallel-item::before {content: \"\";position: absolute;border-left: 1px solid gray;box-sizing: border-box;top: 0;bottom: 0;left: 50%;z-index: -1;}#sk-container-id-3 div.sk-parallel-item {display: flex;flex-direction: column;z-index: 1;position: relative;background-color: white;}#sk-container-id-3 div.sk-parallel-item:first-child::after {align-self: flex-end;width: 50%;}#sk-container-id-3 div.sk-parallel-item:last-child::after {align-self: flex-start;width: 50%;}#sk-container-id-3 div.sk-parallel-item:only-child::after {width: 0;}#sk-container-id-3 div.sk-dashed-wrapped {border: 1px dashed gray;margin: 0 0.4em 0.5em 0.4em;box-sizing: border-box;padding-bottom: 0.4em;background-color: white;}#sk-container-id-3 div.sk-label label {font-family: monospace;font-weight: bold;display: inline-block;line-height: 1.2em;}#sk-container-id-3 div.sk-label-container {text-align: center;}#sk-container-id-3 div.sk-container {/* jupyter's `normalize.less` sets `[hidden] { display: none; }` but bootstrap.min.css set `[hidden] { display: none !important; }` so we also need the `!important` here to be able to override the default hidden behavior on the sphinx rendered scikit-learn.org. See: https://github.com/scikit-learn/scikit-learn/issues/21755 */display: inline-block !important;position: relative;}#sk-container-id-3 div.sk-text-repr-fallback {display: none;}</style><div id=\"sk-container-id-3\" class=\"sk-top-container\"><div class=\"sk-text-repr-fallback\"><pre>LogisticRegression(C=0.5, class_weight=&#x27;balanced&#x27;, random_state=10,\n",
       "                   solver=&#x27;liblinear&#x27;, tol=1e-05)</pre><b>In a Jupyter environment, please rerun this cell to show the HTML representation or trust the notebook. <br />On GitHub, the HTML representation is unable to render, please try loading this page with nbviewer.org.</b></div><div class=\"sk-container\" hidden><div class=\"sk-item\"><div class=\"sk-estimator sk-toggleable\"><input class=\"sk-toggleable__control sk-hidden--visually\" id=\"sk-estimator-id-5\" type=\"checkbox\" checked><label for=\"sk-estimator-id-5\" class=\"sk-toggleable__label sk-toggleable__label-arrow\">LogisticRegression</label><div class=\"sk-toggleable__content\"><pre>LogisticRegression(C=0.5, class_weight=&#x27;balanced&#x27;, random_state=10,\n",
       "                   solver=&#x27;liblinear&#x27;, tol=1e-05)</pre></div></div></div></div></div>"
      ],
      "text/plain": [
       "LogisticRegression(C=0.5, class_weight='balanced', random_state=10,\n",
       "                   solver='liblinear', tol=1e-05)"
      ]
     },
     "execution_count": 42,
     "metadata": {},
     "output_type": "execute_result"
    }
   ],
   "source": [
    "regr = LogisticRegression(tol=0.00001,C=0.5,class_weight=\"balanced\",solver='liblinear',random_state=10)\n",
    "regr.fit(X_train,y_train)"
   ]
  },
  {
   "cell_type": "code",
   "execution_count": null,
   "metadata": {},
   "outputs": [
    {
     "name": "stdout",
     "output_type": "stream",
     "text": [
      "2.425\n",
      "Test set Accuracy:  0.35\n"
     ]
    }
   ],
   "source": [
    "yhat=regr.predict(X_test)\n",
    "print(np.mean((yhat-y_test)**2))\n",
    "# print(np.mean((regr.predict(X_train)-y_train)**2))\n",
    "from sklearn import metrics\n",
    "# print(\"Train set Accuracy: \", metrics.accuracy_score(y_train, regr.predict(X_train)))\n",
    "print(\"Test set Accuracy: \", metrics.accuracy_score(y_test, yhat))"
   ]
  },
  {
   "cell_type": "code",
   "execution_count": null,
   "metadata": {},
   "outputs": [
    {
     "data": {
      "text/plain": [
       "array([[1, 0, 0, 0, 0, 0],\n",
       "       [4, 0, 5, 1, 0, 0],\n",
       "       [1, 0, 9, 1, 0, 0],\n",
       "       [3, 0, 5, 4, 0, 1],\n",
       "       [0, 0, 1, 0, 0, 1],\n",
       "       [0, 0, 1, 1, 0, 0]], dtype=int64)"
      ]
     },
     "execution_count": 44,
     "metadata": {},
     "output_type": "execute_result"
    }
   ],
   "source": [
    "cnf_matrix = confusion_matrix(y_test, yhat, labels=[10,9,8,7,6,5])\n",
    "cnf_matrix\n",
    "# weird shape"
   ]
  },
  {
   "cell_type": "code",
   "execution_count": null,
   "metadata": {},
   "outputs": [
    {
     "name": "stdout",
     "output_type": "stream",
     "text": [
      "MSE\n",
      "1.4333038563782279\n"
     ]
    }
   ],
   "source": [
    "regr = LinearRegression()\n",
    "regr.fit(X_train,y_train)\n",
    "yhat=regr.predict(X_test)\n",
    "print('MSE')\n",
    "print(np.mean((yhat-y_test)**2))"
   ]
  }
 ],
 "metadata": {
  "kernelspec": {
   "display_name": "Python 3 (ipykernel)",
   "language": "python",
   "name": "python3"
  },
  "language_info": {
   "codemirror_mode": {
    "name": "ipython",
    "version": 3
   },
   "file_extension": ".py",
   "mimetype": "text/x-python",
   "name": "python",
   "nbconvert_exporter": "python",
   "pygments_lexer": "ipython3",
   "version": "3.10.5"
  }
 },
 "nbformat": 4,
 "nbformat_minor": 2
}
